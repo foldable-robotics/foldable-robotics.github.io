{
 "cells": [
  {
   "cell_type": "code",
   "execution_count": 1,
   "id": "8fbdcaa2-0bbf-4967-a6c6-efcd8e90beb9",
   "metadata": {},
   "outputs": [],
   "source": [
    "import numpy\n",
    "import math\n",
    "import matplotlib.pyplot as plt"
   ]
  },
  {
   "cell_type": "code",
   "execution_count": 2,
   "id": "45e1c2e9-344b-4069-9b41-54d60b878d2e",
   "metadata": {},
   "outputs": [],
   "source": [
    "def Rz(theta):\n",
    "    Rz = numpy.array([[math.cos(theta),-math.sin(theta),0],[math.sin(theta),math.cos(theta),0],[0,0,1]])\n",
    "    return Rz"
   ]
  },
  {
   "cell_type": "code",
   "execution_count": 3,
   "id": "99ac12a4-d224-4b5f-95d1-59ff5179b03b",
   "metadata": {},
   "outputs": [
    {
     "data": {
      "text/plain": [
       "array([[ 1., -0.,  0.],\n",
       "       [ 0.,  1.,  0.],\n",
       "       [ 0.,  0.,  1.]])"
      ]
     },
     "execution_count": 3,
     "metadata": {},
     "output_type": "execute_result"
    }
   ],
   "source": [
    "Rz(0)"
   ]
  },
  {
   "cell_type": "code",
   "execution_count": 4,
   "id": "d9a63d00-1a5c-4016-b631-2ce14e752e82",
   "metadata": {},
   "outputs": [
    {
     "data": {
      "text/plain": [
       "array([[ 0.8660254, -0.5      ,  0.       ],\n",
       "       [ 0.5      ,  0.8660254,  0.       ],\n",
       "       [ 0.       ,  0.       ,  1.       ]])"
      ]
     },
     "execution_count": 4,
     "metadata": {},
     "output_type": "execute_result"
    }
   ],
   "source": [
    "Rz(30*math.pi/180)"
   ]
  },
  {
   "cell_type": "code",
   "execution_count": 5,
   "id": "8c338cd9-f2db-440f-a089-bad8479767f7",
   "metadata": {},
   "outputs": [
    {
     "data": {
      "text/plain": [
       "array([[1],\n",
       "       [0],\n",
       "       [0]])"
      ]
     },
     "execution_count": 5,
     "metadata": {},
     "output_type": "execute_result"
    }
   ],
   "source": [
    "ax_in_a = numpy.array([[1,0,0]]).T\n",
    "ax_in_a"
   ]
  },
  {
   "cell_type": "code",
   "execution_count": 6,
   "id": "35831330-205f-4165-8bd2-6b22aa2dde66",
   "metadata": {},
   "outputs": [],
   "source": [
    "bx_in_b = ax_in_a.copy()\n",
    "cx_in_c = ax_in_a.copy()"
   ]
  },
  {
   "cell_type": "code",
   "execution_count": 7,
   "id": "f4bf9fe9-ca53-4879-8278-7c0ea1b19840",
   "metadata": {},
   "outputs": [],
   "source": [
    "theta_1 = 30*math.pi/180\n",
    "theta_2 = 45*math.pi/180\n",
    "d_theta = 1*math.pi/180\n",
    "\n",
    "l_1 = 1\n",
    "l_2 = 1\n",
    "\n"
   ]
  },
  {
   "cell_type": "code",
   "execution_count": 8,
   "id": "4246be73-9a1c-46f6-bb3e-9acfdc75d5c8",
   "metadata": {},
   "outputs": [
    {
     "data": {
      "text/plain": [
       "array([[ 0.8660254, -0.5      ,  0.       ],\n",
       "       [ 0.5      ,  0.8660254,  0.       ],\n",
       "       [ 0.       ,  0.       ,  1.       ]])"
      ]
     },
     "execution_count": 8,
     "metadata": {},
     "output_type": "execute_result"
    }
   ],
   "source": [
    "R_ab = Rz(theta_1)\n",
    "R_ab"
   ]
  },
  {
   "cell_type": "code",
   "execution_count": 9,
   "id": "6d6ea228-77cc-4d0d-9461-d331ddad5994",
   "metadata": {},
   "outputs": [
    {
     "data": {
      "text/plain": [
       "array([[ 0.70710678, -0.70710678,  0.        ],\n",
       "       [ 0.70710678,  0.70710678,  0.        ],\n",
       "       [ 0.        ,  0.        ,  1.        ]])"
      ]
     },
     "execution_count": 9,
     "metadata": {},
     "output_type": "execute_result"
    }
   ],
   "source": [
    "R_bc = Rz(theta_2)\n",
    "R_bc"
   ]
  },
  {
   "cell_type": "code",
   "execution_count": 10,
   "id": "64bda3d1-cc06-4c1b-ae6d-35883d658cdf",
   "metadata": {},
   "outputs": [
    {
     "data": {
      "text/plain": [
       "array([[0.8660254],\n",
       "       [0.5      ],\n",
       "       [0.       ]])"
      ]
     },
     "execution_count": 10,
     "metadata": {},
     "output_type": "execute_result"
    }
   ],
   "source": [
    "v1_in_b = l_1*bx_in_b\n",
    "v1_in_a = R_ab@v1_in_b\n",
    "v1_in_a"
   ]
  },
  {
   "cell_type": "code",
   "execution_count": 11,
   "id": "a10f04a9-ec19-4712-a607-248796c4bee2",
   "metadata": {},
   "outputs": [
    {
     "data": {
      "text/plain": [
       "array([[0.25881905],\n",
       "       [0.96592583],\n",
       "       [0.        ]])"
      ]
     },
     "execution_count": 11,
     "metadata": {},
     "output_type": "execute_result"
    }
   ],
   "source": [
    "v2_in_c = l_2*cx_in_c\n",
    "v2_in_b = R_bc@v2_in_c\n",
    "v2_in_a = R_ab@v2_in_b\n",
    "v2_in_a"
   ]
  },
  {
   "cell_type": "code",
   "execution_count": 12,
   "id": "20b039b7-d180-4fdb-9ad5-726d3000ac97",
   "metadata": {},
   "outputs": [
    {
     "data": {
      "text/plain": [
       "array([[0],\n",
       "       [0],\n",
       "       [0]])"
      ]
     },
     "execution_count": 12,
     "metadata": {},
     "output_type": "execute_result"
    }
   ],
   "source": [
    "o = 0*ax_in_a\n",
    "o"
   ]
  },
  {
   "cell_type": "code",
   "execution_count": 13,
   "id": "2bfb04b2-e088-4dcc-b5f7-9e817a52e5d5",
   "metadata": {},
   "outputs": [
    {
     "data": {
      "text/plain": [
       "array([[0.8660254],\n",
       "       [0.5      ],\n",
       "       [0.       ]])"
      ]
     },
     "execution_count": 13,
     "metadata": {},
     "output_type": "execute_result"
    }
   ],
   "source": [
    "p1 = o+v1_in_a\n",
    "p1"
   ]
  },
  {
   "cell_type": "code",
   "execution_count": 14,
   "id": "3ea44d60-f81c-4a24-836f-15eb66d526f3",
   "metadata": {},
   "outputs": [
    {
     "data": {
      "text/plain": [
       "array([[1.12484445],\n",
       "       [1.46592583],\n",
       "       [0.        ]])"
      ]
     },
     "execution_count": 14,
     "metadata": {},
     "output_type": "execute_result"
    }
   ],
   "source": [
    "p2 = p1+v2_in_a\n",
    "p2"
   ]
  },
  {
   "cell_type": "code",
   "execution_count": 15,
   "id": "e566e280-690f-4b81-bbb5-13e4b09ce27b",
   "metadata": {},
   "outputs": [
    {
     "data": {
      "text/plain": [
       "(3, 3)"
      ]
     },
     "execution_count": 15,
     "metadata": {},
     "output_type": "execute_result"
    }
   ],
   "source": [
    "points = [o, p1,p2]\n",
    "points = numpy.array(points)\n",
    "points = points.squeeze()\n",
    "points.shape"
   ]
  },
  {
   "cell_type": "code",
   "execution_count": 16,
   "id": "9368bbbe-2791-4587-8985-5af97ac7ceef",
   "metadata": {},
   "outputs": [
    {
     "data": {
      "text/plain": [
       "(np.float64(-0.05624222244434798),\n",
       " np.float64(1.1810866713313075),\n",
       " np.float64(-0.07329629131445341),\n",
       " np.float64(1.5392221176035217))"
      ]
     },
     "execution_count": 16,
     "metadata": {},
     "output_type": "execute_result"
    },
    {
     "data": {
      "image/png": "[encoded data removed]",
      "text/plain": [
       "<Figure size 640x480 with 1 Axes>"
      ]
     },
     "metadata": {},
     "output_type": "display_data"
    }
   ],
   "source": [
    "plt.plot(points[:,0],points[:,1])\n",
    "plt.axis('equal')"
   ]
  },
  {
   "cell_type": "code",
   "execution_count": 17,
   "id": "aad360f0-9e39-4524-bf9d-c9a14d9ea069",
   "metadata": {},
   "outputs": [
    {
     "data": {
      "text/plain": [
       "array([[ 0.8571673 , -0.51503807,  0.        ],\n",
       "       [ 0.51503807,  0.8571673 ,  0.        ],\n",
       "       [ 0.        ,  0.        ,  1.        ]])"
      ]
     },
     "execution_count": 17,
     "metadata": {},
     "output_type": "execute_result"
    }
   ],
   "source": [
    "R_ab = Rz(theta_1+d_theta)\n",
    "R_ab"
   ]
  },
  {
   "cell_type": "code",
   "execution_count": 18,
   "id": "9475c967-276c-4991-945e-342282d922fe",
   "metadata": {},
   "outputs": [
    {
     "data": {
      "text/plain": [
       "array([[ 0.70710678, -0.70710678,  0.        ],\n",
       "       [ 0.70710678,  0.70710678,  0.        ],\n",
       "       [ 0.        ,  0.        ,  1.        ]])"
      ]
     },
     "execution_count": 18,
     "metadata": {},
     "output_type": "execute_result"
    }
   ],
   "source": [
    "R_bc = Rz(theta_2)\n",
    "R_bc"
   ]
  },
  {
   "cell_type": "code",
   "execution_count": 19,
   "id": "f481cfa0-230b-4f3f-9a9c-88a1602a5c28",
   "metadata": {},
   "outputs": [
    {
     "data": {
      "text/plain": [
       "array([[0.8571673 ],\n",
       "       [0.51503807],\n",
       "       [0.        ]])"
      ]
     },
     "execution_count": 19,
     "metadata": {},
     "output_type": "execute_result"
    }
   ],
   "source": [
    "v1_in_b = l_1*bx_in_b\n",
    "v1_in_a = R_ab@v1_in_b\n",
    "v1_in_a"
   ]
  },
  {
   "cell_type": "code",
   "execution_count": 20,
   "id": "3487aa63-03df-4064-805b-9bd06f4db0c5",
   "metadata": {},
   "outputs": [
    {
     "data": {
      "text/plain": [
       "array([[0.2419219 ],\n",
       "       [0.97029573],\n",
       "       [0.        ]])"
      ]
     },
     "execution_count": 20,
     "metadata": {},
     "output_type": "execute_result"
    }
   ],
   "source": [
    "v2_in_c = l_2*cx_in_c\n",
    "v2_in_b = R_bc@v2_in_c\n",
    "v2_in_a = R_ab@v2_in_b\n",
    "v2_in_a"
   ]
  },
  {
   "cell_type": "code",
   "execution_count": 21,
   "id": "a54d2f66-1eeb-4e29-8354-fe0d6eb7111d",
   "metadata": {},
   "outputs": [
    {
     "data": {
      "text/plain": [
       "array([[0],\n",
       "       [0],\n",
       "       [0]])"
      ]
     },
     "execution_count": 21,
     "metadata": {},
     "output_type": "execute_result"
    }
   ],
   "source": [
    "o = 0*ax_in_a\n",
    "o"
   ]
  },
  {
   "cell_type": "code",
   "execution_count": 22,
   "id": "fe32fefc-57ac-4d27-8ff0-163064bd30be",
   "metadata": {},
   "outputs": [
    {
     "data": {
      "text/plain": [
       "array([[0.8571673 ],\n",
       "       [0.51503807],\n",
       "       [0.        ]])"
      ]
     },
     "execution_count": 22,
     "metadata": {},
     "output_type": "execute_result"
    }
   ],
   "source": [
    "p1_new = o+v1_in_a\n",
    "p1_new"
   ]
  },
  {
   "cell_type": "code",
   "execution_count": 23,
   "id": "bd696c9c-e4fd-4b91-90a6-a820beac61ab",
   "metadata": {},
   "outputs": [
    {
     "data": {
      "text/plain": [
       "array([[1.0990892],\n",
       "       [1.4853338],\n",
       "       [0.       ]])"
      ]
     },
     "execution_count": 23,
     "metadata": {},
     "output_type": "execute_result"
    }
   ],
   "source": [
    "p2_new = p1_new+v2_in_a\n",
    "p2_new"
   ]
  },
  {
   "cell_type": "code",
   "execution_count": 24,
   "id": "197af4b7-ee4a-4981-bb54-3c21b0b5ff4e",
   "metadata": {},
   "outputs": [
    {
     "data": {
      "text/plain": [
       "(3, 3)"
      ]
     },
     "execution_count": 24,
     "metadata": {},
     "output_type": "execute_result"
    }
   ],
   "source": [
    "points = [o, p1,p2]\n",
    "points = numpy.array(points)\n",
    "points = points.squeeze()\n",
    "points.shape"
   ]
  },
  {
   "cell_type": "code",
   "execution_count": 25,
   "id": "a15bb8b9-b4ba-4515-84b8-aee78447c420",
   "metadata": {},
   "outputs": [
    {
     "data": {
      "text/plain": [
       "(3, 3)"
      ]
     },
     "execution_count": 25,
     "metadata": {},
     "output_type": "execute_result"
    }
   ],
   "source": [
    "points_new = [o, p1_new,p2_new]\n",
    "points_new = numpy.array(points_new)\n",
    "points_new = points_new.squeeze()\n",
    "points_new.shape"
   ]
  },
  {
   "cell_type": "code",
   "execution_count": 26,
   "id": "90edadcf-b903-484c-9667-1cfe951d6b19",
   "metadata": {},
   "outputs": [
    {
     "data": {
      "text/plain": [
       "(np.float64(-0.05624222244434798),\n",
       " np.float64(1.1810866713313075),\n",
       " np.float64(-0.07426669005930253),\n",
       " np.float64(1.5596004912453532))"
      ]
     },
     "execution_count": 26,
     "metadata": {},
     "output_type": "execute_result"
    },
    {
     "data": {
      "image/png": "[encoded data removed]",
      "text/plain": [
       "<Figure size 640x480 with 1 Axes>"
      ]
     },
     "metadata": {},
     "output_type": "display_data"
    }
   ],
   "source": [
    "plt.plot(points[:,0],points[:,1])\n",
    "plt.plot(points_new[:,0],points_new[:,1])\n",
    "plt.axis('equal')"
   ]
  },
  {
   "cell_type": "code",
   "execution_count": 27,
   "id": "ec25f229-da48-49f2-b18a-5a744537830e",
   "metadata": {},
   "outputs": [
    {
     "data": {
      "text/plain": [
       "array([[-1.47566727],\n",
       "       [ 1.11199505],\n",
       "       [ 0.        ]])"
      ]
     },
     "execution_count": 27,
     "metadata": {},
     "output_type": "execute_result"
    }
   ],
   "source": [
    "dp2_dtheta1 = (p2_new - p2)/d_theta\n",
    "dp2_dtheta1"
   ]
  },
  {
   "cell_type": "code",
   "execution_count": 28,
   "id": "777d73ab-5120-4ff0-ab71-b8bdfe11d14d",
   "metadata": {},
   "outputs": [
    {
     "data": {
      "text/plain": [
       "array([[ 0.8660254, -0.5      ,  0.       ],\n",
       "       [ 0.5      ,  0.8660254,  0.       ],\n",
       "       [ 0.       ,  0.       ,  1.       ]])"
      ]
     },
     "execution_count": 28,
     "metadata": {},
     "output_type": "execute_result"
    }
   ],
   "source": [
    "R_ab = Rz(theta_1)\n",
    "R_ab"
   ]
  },
  {
   "cell_type": "code",
   "execution_count": 29,
   "id": "af1d908a-a3d3-492c-b641-613f39239588",
   "metadata": {},
   "outputs": [
    {
     "data": {
      "text/plain": [
       "array([[ 0.69465837, -0.7193398 ,  0.        ],\n",
       "       [ 0.7193398 ,  0.69465837,  0.        ],\n",
       "       [ 0.        ,  0.        ,  1.        ]])"
      ]
     },
     "execution_count": 29,
     "metadata": {},
     "output_type": "execute_result"
    }
   ],
   "source": [
    "R_bc = Rz(theta_2+d_theta)\n",
    "R_bc"
   ]
  },
  {
   "cell_type": "code",
   "execution_count": 30,
   "id": "dd71e296-93c3-480b-a3f8-efe035d390f4",
   "metadata": {},
   "outputs": [
    {
     "data": {
      "text/plain": [
       "array([[0.8660254],\n",
       "       [0.5      ],\n",
       "       [0.       ]])"
      ]
     },
     "execution_count": 30,
     "metadata": {},
     "output_type": "execute_result"
    }
   ],
   "source": [
    "v1_in_b = l_1*bx_in_b\n",
    "v1_in_a = R_ab@v1_in_b\n",
    "v1_in_a"
   ]
  },
  {
   "cell_type": "code",
   "execution_count": 31,
   "id": "b627b970-bd55-48f5-ba14-9ea5c0108ae7",
   "metadata": {},
   "outputs": [
    {
     "data": {
      "text/plain": [
       "array([[0.2419219 ],\n",
       "       [0.97029573],\n",
       "       [0.        ]])"
      ]
     },
     "execution_count": 31,
     "metadata": {},
     "output_type": "execute_result"
    }
   ],
   "source": [
    "v2_in_c = l_2*cx_in_c\n",
    "v2_in_b = R_bc@v2_in_c\n",
    "v2_in_a = R_ab@v2_in_b\n",
    "v2_in_a"
   ]
  },
  {
   "cell_type": "code",
   "execution_count": 32,
   "id": "9c4508f3-7032-4430-9dde-3f9f203cadc9",
   "metadata": {},
   "outputs": [
    {
     "data": {
      "text/plain": [
       "array([[0],\n",
       "       [0],\n",
       "       [0]])"
      ]
     },
     "execution_count": 32,
     "metadata": {},
     "output_type": "execute_result"
    }
   ],
   "source": [
    "o = 0*ax_in_a\n",
    "o"
   ]
  },
  {
   "cell_type": "code",
   "execution_count": 33,
   "id": "efed227e-41ba-42a2-a8b6-e16617f959d7",
   "metadata": {},
   "outputs": [
    {
     "data": {
      "text/plain": [
       "array([[0.8660254],\n",
       "       [0.5      ],\n",
       "       [0.       ]])"
      ]
     },
     "execution_count": 33,
     "metadata": {},
     "output_type": "execute_result"
    }
   ],
   "source": [
    "p1_new = o+v1_in_a\n",
    "p1_new"
   ]
  },
  {
   "cell_type": "code",
   "execution_count": 34,
   "id": "85e8827a-1c06-4233-8e7b-222ceb74f7b4",
   "metadata": {},
   "outputs": [
    {
     "data": {
      "text/plain": [
       "array([[1.1079473 ],\n",
       "       [1.47029573],\n",
       "       [0.        ]])"
      ]
     },
     "execution_count": 34,
     "metadata": {},
     "output_type": "execute_result"
    }
   ],
   "source": [
    "p2_new = p1_new+v2_in_a\n",
    "p2_new"
   ]
  },
  {
   "cell_type": "code",
   "execution_count": 35,
   "id": "835c78d3-583f-411e-ac5b-fe5d2dafe4b8",
   "metadata": {},
   "outputs": [
    {
     "data": {
      "text/plain": [
       "(3, 3)"
      ]
     },
     "execution_count": 35,
     "metadata": {},
     "output_type": "execute_result"
    }
   ],
   "source": [
    "points = [o, p1,p2]\n",
    "points = numpy.array(points)\n",
    "points = points.squeeze()\n",
    "points.shape"
   ]
  },
  {
   "cell_type": "code",
   "execution_count": 36,
   "id": "1776ea0f-19d5-497b-8426-e4e533b17d2a",
   "metadata": {},
   "outputs": [
    {
     "data": {
      "text/plain": [
       "(3, 3)"
      ]
     },
     "execution_count": 36,
     "metadata": {},
     "output_type": "execute_result"
    }
   ],
   "source": [
    "points_new = [o, p1_new,p2_new]\n",
    "points_new = numpy.array(points_new)\n",
    "points_new = points_new.squeeze()\n",
    "points_new.shape"
   ]
  },
  {
   "cell_type": "code",
   "execution_count": 37,
   "id": "9a3e77d0-3b55-41d4-a4e3-349c2a973450",
   "metadata": {},
   "outputs": [
    {
     "data": {
      "text/plain": [
       "(np.float64(-0.05624222244434798),\n",
       " np.float64(1.1810866713313075),\n",
       " np.float64(-0.07351478631379982),\n",
       " np.float64(1.543810512589796))"
      ]
     },
     "execution_count": 37,
     "metadata": {},
     "output_type": "execute_result"
    },
    {
     "data": {
      "image/png": "[encoded data removed]",
      "text/plain": [
       "<Figure size 640x480 with 1 Axes>"
      ]
     },
     "metadata": {},
     "output_type": "display_data"
    }
   ],
   "source": [
    "plt.plot(points[:,0],points[:,1])\n",
    "plt.plot(points_new[:,0],points_new[:,1])\n",
    "plt.axis('equal')"
   ]
  },
  {
   "cell_type": "code",
   "execution_count": 38,
   "id": "779af214-7e2f-4323-932c-1cd651714f57",
   "metadata": {},
   "outputs": [
    {
     "data": {
      "text/plain": [
       "array([[-0.96813535],\n",
       "       [ 0.25037683],\n",
       "       [ 0.        ]])"
      ]
     },
     "execution_count": 38,
     "metadata": {},
     "output_type": "execute_result"
    }
   ],
   "source": [
    "dp2_dtheta2 = (p2_new - p2)/d_theta\n",
    "dp2_dtheta2"
   ]
  },
  {
   "cell_type": "code",
   "execution_count": 39,
   "id": "588fd739-6b6e-4dbe-b593-42c65ab4bff2",
   "metadata": {},
   "outputs": [],
   "source": [
    "J = numpy.hstack([dp2_dtheta1,dp2_dtheta2])"
   ]
  },
  {
   "cell_type": "code",
   "execution_count": 40,
   "id": "b9177599-2b69-4e72-82a8-38e74da3f76a",
   "metadata": {},
   "outputs": [
    {
     "data": {
      "text/plain": [
       "array([[-1.47566727, -0.96813535],\n",
       "       [ 1.11199505,  0.25037683],\n",
       "       [ 0.        ,  0.        ]])"
      ]
     },
     "execution_count": 40,
     "metadata": {},
     "output_type": "execute_result"
    }
   ],
   "source": [
    "J"
   ]
  },
  {
   "cell_type": "code",
   "execution_count": 49,
   "id": "c51346ac-025f-4ea9-a48a-e8233a2c8f26",
   "metadata": {},
   "outputs": [
    {
     "data": {
      "text/plain": [
       "array([[-0.96813535],\n",
       "       [ 0.25037683],\n",
       "       [ 0.        ]])"
      ]
     },
     "execution_count": 49,
     "metadata": {},
     "output_type": "execute_result"
    }
   ],
   "source": [
    "dy = J@numpy.array([[0,1]]).T\n",
    "dy"
   ]
  },
  {
   "cell_type": "code",
   "execution_count": 50,
   "id": "b4cf0a4b-a603-48a3-9416-573e74315014",
   "metadata": {},
   "outputs": [
    {
     "data": {
      "text/plain": [
       "<matplotlib.patches.FancyArrow at 0x727c61967290>"
      ]
     },
     "execution_count": 50,
     "metadata": {},
     "output_type": "execute_result"
    },
    {
     "data": {
      "image/png": "[encoded data removed]",
      "text/plain": [
       "<Figure size 640x480 with 1 Axes>"
      ]
     },
     "metadata": {},
     "output_type": "display_data"
    }
   ],
   "source": [
    "plt.plot(points[:,0],points[:,1])\n",
    "plt.plot(points_new[:,0],points_new[:,1])\n",
    "plt.axis('equal')\n",
    "\n",
    "plt.arrow(p2_new[0,0],p2_new[1,0],dy[0,0],dy[1,0])\n"
   ]
  },
  {
   "cell_type": "code",
   "execution_count": null,
   "id": "eb046f9e-4505-4062-937b-72653d05cfab",
   "metadata": {},
   "outputs": [],
   "source": []
  }
 ],
 "metadata": {
  "kernelspec": {
   "display_name": "Python 3 (ipykernel)",
   "language": "python",
   "name": "python3"
  },
  "language_info": {
   "codemirror_mode": {
    "name": "ipython",
    "version": 3
   },
   "file_extension": ".py",
   "mimetype": "text/x-python",
   "name": "python",
   "nbconvert_exporter": "python",
   "pygments_lexer": "ipython3",
   "version": "3.12.3"
  }
 },
 "nbformat": 4,
 "nbformat_minor": 5
}
