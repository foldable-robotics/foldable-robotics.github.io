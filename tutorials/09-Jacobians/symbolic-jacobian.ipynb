{
 "cells": [
  {
   "cell_type": "code",
   "execution_count": 1,
   "id": "b5691301-2498-47b3-9ba6-5eb763f4fbf2",
   "metadata": {},
   "outputs": [],
   "source": [
    "import numpy\n",
    "import math\n",
    "import matplotlib.pyplot as plt\n",
    "import sympy"
   ]
  },
  {
   "cell_type": "code",
   "execution_count": 2,
   "id": "14794c19-125a-4cdb-a6f0-cb393edc8bba",
   "metadata": {},
   "outputs": [
    {
     "data": {
      "text/latex": [
       "$\\displaystyle l_{1}$"
      ],
      "text/plain": [
       "l_1"
      ]
     },
     "execution_count": 2,
     "metadata": {},
     "output_type": "execute_result"
    }
   ],
   "source": [
    "l_1 = sympy.Symbol('l_1')\n",
    "l_1"
   ]
  },
  {
   "cell_type": "code",
   "execution_count": 3,
   "id": "949b17a3-b951-4f8e-898a-3ab7397bbad7",
   "metadata": {},
   "outputs": [
    {
     "data": {
      "text/latex": [
       "$\\displaystyle l_{2}$"
      ],
      "text/plain": [
       "l_2"
      ]
     },
     "execution_count": 3,
     "metadata": {},
     "output_type": "execute_result"
    }
   ],
   "source": [
    "l_2 = sympy.Symbol('l_2')\n",
    "l_2"
   ]
  },
  {
   "cell_type": "code",
   "execution_count": 4,
   "id": "723e8022-63ac-4fcc-8699-abeb1e47b289",
   "metadata": {},
   "outputs": [
    {
     "data": {
      "text/latex": [
       "$\\displaystyle \\theta_{1}$"
      ],
      "text/plain": [
       "\\theta_1"
      ]
     },
     "execution_count": 4,
     "metadata": {},
     "output_type": "execute_result"
    }
   ],
   "source": [
    "q1 = sympy.Symbol('\\\\theta_1')\n",
    "q1"
   ]
  },
  {
   "cell_type": "code",
   "execution_count": 5,
   "id": "6e063b4d-3ba1-47d1-879b-beb9f9cc9e75",
   "metadata": {},
   "outputs": [
    {
     "data": {
      "text/latex": [
       "$\\displaystyle \\theta_{2}$"
      ],
      "text/plain": [
       "\\theta_2"
      ]
     },
     "execution_count": 5,
     "metadata": {},
     "output_type": "execute_result"
    }
   ],
   "source": [
    "q2 = sympy.Symbol('\\\\theta_2')\n",
    "q2"
   ]
  },
  {
   "cell_type": "code",
   "execution_count": 6,
   "id": "cd1c7512-9813-4464-bb75-c4e25f1bbacb",
   "metadata": {},
   "outputs": [],
   "source": [
    "def Rz(theta):\n",
    "    Rz = sympy.Matrix([[sympy.cos(theta),-sympy.sin(theta),0],\n",
    "                       [sympy.sin(theta),sympy.cos(theta),0],\n",
    "                       [0,0,1]])\n",
    "    return Rz"
   ]
  },
  {
   "cell_type": "code",
   "execution_count": 7,
   "id": "346bb9ef-fe26-4c95-a709-bd0e320e4f16",
   "metadata": {},
   "outputs": [
    {
     "data": {
      "text/latex": [
       "$\\displaystyle \\left[\\begin{matrix}\\cos{\\left(\\theta_{1} \\right)} & - \\sin{\\left(\\theta_{1} \\right)} & 0\\\\\\sin{\\left(\\theta_{1} \\right)} & \\cos{\\left(\\theta_{1} \\right)} & 0\\\\0 & 0 & 1\\end{matrix}\\right]$"
      ],
      "text/plain": [
       "Matrix([\n",
       "[cos(\\theta_1), -sin(\\theta_1), 0],\n",
       "[sin(\\theta_1),  cos(\\theta_1), 0],\n",
       "[            0,              0, 1]])"
      ]
     },
     "execution_count": 7,
     "metadata": {},
     "output_type": "execute_result"
    }
   ],
   "source": [
    "Rz(q1)"
   ]
  },
  {
   "cell_type": "code",
   "execution_count": 8,
   "id": "ff59a59c-e39f-41fb-9df0-f290672e4ba2",
   "metadata": {},
   "outputs": [],
   "source": [
    "R_ab = Rz(q1)\n",
    "R_bc = Rz(q2)"
   ]
  },
  {
   "cell_type": "code",
   "execution_count": 9,
   "id": "72615532-837b-4e98-9a71-64596869c55a",
   "metadata": {},
   "outputs": [
    {
     "data": {
      "text/latex": [
       "$\\displaystyle \\left[\\begin{matrix}1\\\\0\\\\0\\end{matrix}\\right]$"
      ],
      "text/plain": [
       "Matrix([\n",
       "[1],\n",
       "[0],\n",
       "[0]])"
      ]
     },
     "execution_count": 9,
     "metadata": {},
     "output_type": "execute_result"
    }
   ],
   "source": [
    "ax_in_a = sympy.Matrix([1,0,0])\n",
    "ax_in_a"
   ]
  },
  {
   "cell_type": "code",
   "execution_count": 10,
   "id": "a8073e2a-9703-4921-bff6-494fdb21c122",
   "metadata": {},
   "outputs": [],
   "source": [
    "bx_in_b = ax_in_a\n",
    "cx_in_c = ax_in_a"
   ]
  },
  {
   "cell_type": "code",
   "execution_count": 11,
   "id": "cfa69f56-aaba-4af7-be83-4bf3df99594e",
   "metadata": {},
   "outputs": [
    {
     "data": {
      "text/latex": [
       "$\\displaystyle \\left[\\begin{matrix}l_{1} \\cos{\\left(\\theta_{1} \\right)}\\\\l_{1} \\sin{\\left(\\theta_{1} \\right)}\\\\0\\end{matrix}\\right]$"
      ],
      "text/plain": [
       "Matrix([\n",
       "[l_1*cos(\\theta_1)],\n",
       "[l_1*sin(\\theta_1)],\n",
       "[                0]])"
      ]
     },
     "execution_count": 11,
     "metadata": {},
     "output_type": "execute_result"
    }
   ],
   "source": [
    "v1_in_b = l_1*bx_in_b\n",
    "v1_in_a = R_ab*v1_in_b\n",
    "v1_in_a"
   ]
  },
  {
   "cell_type": "code",
   "execution_count": 12,
   "id": "403d239f-07dd-41a4-9c5f-272ef0dcc730",
   "metadata": {},
   "outputs": [
    {
     "data": {
      "text/latex": [
       "$\\displaystyle \\left[\\begin{matrix}- l_{2} \\sin{\\left(\\theta_{1} \\right)} \\sin{\\left(\\theta_{2} \\right)} + l_{2} \\cos{\\left(\\theta_{1} \\right)} \\cos{\\left(\\theta_{2} \\right)}\\\\l_{2} \\sin{\\left(\\theta_{1} \\right)} \\cos{\\left(\\theta_{2} \\right)} + l_{2} \\sin{\\left(\\theta_{2} \\right)} \\cos{\\left(\\theta_{1} \\right)}\\\\0\\end{matrix}\\right]$"
      ],
      "text/plain": [
       "Matrix([\n",
       "[-l_2*sin(\\theta_1)*sin(\\theta_2) + l_2*cos(\\theta_1)*cos(\\theta_2)],\n",
       "[ l_2*sin(\\theta_1)*cos(\\theta_2) + l_2*sin(\\theta_2)*cos(\\theta_1)],\n",
       "[                                                                 0]])"
      ]
     },
     "execution_count": 12,
     "metadata": {},
     "output_type": "execute_result"
    }
   ],
   "source": [
    "v2_in_c = l_2*cx_in_c\n",
    "v2_in_b = R_bc*v2_in_c\n",
    "v2_in_a = R_ab*v2_in_b\n",
    "v2_in_a"
   ]
  },
  {
   "cell_type": "code",
   "execution_count": 13,
   "id": "eda24ae0-ae9a-4ab5-9509-889ab1fcd81a",
   "metadata": {},
   "outputs": [
    {
     "data": {
      "text/latex": [
       "$\\displaystyle \\left[\\begin{matrix}0\\\\0\\\\0\\end{matrix}\\right]$"
      ],
      "text/plain": [
       "Matrix([\n",
       "[0],\n",
       "[0],\n",
       "[0]])"
      ]
     },
     "execution_count": 13,
     "metadata": {},
     "output_type": "execute_result"
    }
   ],
   "source": [
    "o = 0*ax_in_a\n",
    "o"
   ]
  },
  {
   "cell_type": "code",
   "execution_count": 14,
   "id": "5c9495c1-c1e8-41ab-9202-374ed50b1991",
   "metadata": {},
   "outputs": [
    {
     "data": {
      "text/latex": [
       "$\\displaystyle \\left[\\begin{matrix}l_{1} \\cos{\\left(\\theta_{1} \\right)}\\\\l_{1} \\sin{\\left(\\theta_{1} \\right)}\\\\0\\end{matrix}\\right]$"
      ],
      "text/plain": [
       "Matrix([\n",
       "[l_1*cos(\\theta_1)],\n",
       "[l_1*sin(\\theta_1)],\n",
       "[                0]])"
      ]
     },
     "execution_count": 14,
     "metadata": {},
     "output_type": "execute_result"
    }
   ],
   "source": [
    "p1 = o+v1_in_a\n",
    "p1"
   ]
  },
  {
   "cell_type": "code",
   "execution_count": 15,
   "id": "729850bd-21d4-4876-aa52-a26e069596ca",
   "metadata": {},
   "outputs": [
    {
     "data": {
      "text/latex": [
       "$\\displaystyle \\left[\\begin{matrix}l_{1} \\cos{\\left(\\theta_{1} \\right)} - l_{2} \\sin{\\left(\\theta_{1} \\right)} \\sin{\\left(\\theta_{2} \\right)} + l_{2} \\cos{\\left(\\theta_{1} \\right)} \\cos{\\left(\\theta_{2} \\right)}\\\\l_{1} \\sin{\\left(\\theta_{1} \\right)} + l_{2} \\sin{\\left(\\theta_{1} \\right)} \\cos{\\left(\\theta_{2} \\right)} + l_{2} \\sin{\\left(\\theta_{2} \\right)} \\cos{\\left(\\theta_{1} \\right)}\\\\0\\end{matrix}\\right]$"
      ],
      "text/plain": [
       "Matrix([\n",
       "[l_1*cos(\\theta_1) - l_2*sin(\\theta_1)*sin(\\theta_2) + l_2*cos(\\theta_1)*cos(\\theta_2)],\n",
       "[l_1*sin(\\theta_1) + l_2*sin(\\theta_1)*cos(\\theta_2) + l_2*sin(\\theta_2)*cos(\\theta_1)],\n",
       "[                                                                                    0]])"
      ]
     },
     "execution_count": 15,
     "metadata": {},
     "output_type": "execute_result"
    }
   ],
   "source": [
    "p2 = p1+v2_in_a\n",
    "p2"
   ]
  },
  {
   "cell_type": "code",
   "execution_count": 16,
   "id": "d0d34b65-4102-42c2-9fc3-6f6c0f3c6309",
   "metadata": {},
   "outputs": [
    {
     "data": {
      "text/latex": [
       "$\\displaystyle \\left[\\begin{matrix}0 & 0 & 0\\\\0.866025403784439 & 0.5 & 0\\\\1.12484444888696 & 1.46592582628907 & 0\\end{matrix}\\right]$"
      ],
      "text/plain": [
       "Matrix([\n",
       "[                0,                0, 0],\n",
       "[0.866025403784439,              0.5, 0],\n",
       "[ 1.12484444888696, 1.46592582628907, 0]])"
      ]
     },
     "execution_count": 16,
     "metadata": {},
     "output_type": "execute_result"
    }
   ],
   "source": [
    "points = [o.T, p1.T,p2.T]\n",
    "points = sympy.Matrix(points)\n",
    "design = {}\n",
    "design[l_1] = 1\n",
    "design[l_2] = 1\n",
    "state = {}\n",
    "state[q1] = 30*math.pi/180\n",
    "state[q2] = 45*math.pi/180\n",
    "points = points.subs(design)\n",
    "points = points.subs(state)\n",
    "points\n"
   ]
  },
  {
   "cell_type": "code",
   "execution_count": 17,
   "id": "46bc7611-208f-4e3f-9336-1359be92bc50",
   "metadata": {},
   "outputs": [
    {
     "data": {
      "text/plain": [
       "array([[0.        , 0.        , 0.        ],\n",
       "       [0.8660254 , 0.5       , 0.        ],\n",
       "       [1.12484445, 1.46592583, 0.        ]])"
      ]
     },
     "execution_count": 17,
     "metadata": {},
     "output_type": "execute_result"
    }
   ],
   "source": [
    "points = numpy.array(points,dtype=float)\n",
    "points = points.squeeze()\n",
    "points"
   ]
  },
  {
   "cell_type": "code",
   "execution_count": 18,
   "id": "3bc49324-40cf-425a-a4c9-9affe05c4061",
   "metadata": {},
   "outputs": [
    {
     "data": {
      "text/plain": [
       "(np.float64(-0.05624222244434798),\n",
       " np.float64(1.1810866713313075),\n",
       " np.float64(-0.07329629131445341),\n",
       " np.float64(1.5392221176035217))"
      ]
     },
     "execution_count": 18,
     "metadata": {},
     "output_type": "execute_result"
    },
    {
     "data": {
      "image/png": "[encoded data removed]",
      "text/plain": [
       "<Figure size 640x480 with 1 Axes>"
      ]
     },
     "metadata": {},
     "output_type": "display_data"
    }
   ],
   "source": [
    "plt.plot(points[:,0],points[:,1])\n",
    "plt.axis('equal')"
   ]
  },
  {
   "cell_type": "code",
   "execution_count": 19,
   "id": "a204a513-e075-4125-a9f8-5f15f86f6d3a",
   "metadata": {},
   "outputs": [],
   "source": [
    "J = p2.jacobian(sympy.Matrix([q1,q2]))"
   ]
  },
  {
   "cell_type": "code",
   "execution_count": 20,
   "id": "09788066-fd3b-4129-9369-fad9d8d3374b",
   "metadata": {},
   "outputs": [
    {
     "data": {
      "text/latex": [
       "$\\displaystyle \\left[\\begin{matrix}- l_{1} \\sin{\\left(\\theta_{1} \\right)} - l_{2} \\sin{\\left(\\theta_{1} \\right)} \\cos{\\left(\\theta_{2} \\right)} - l_{2} \\sin{\\left(\\theta_{2} \\right)} \\cos{\\left(\\theta_{1} \\right)} & - l_{2} \\sin{\\left(\\theta_{1} \\right)} \\cos{\\left(\\theta_{2} \\right)} - l_{2} \\sin{\\left(\\theta_{2} \\right)} \\cos{\\left(\\theta_{1} \\right)}\\\\l_{1} \\cos{\\left(\\theta_{1} \\right)} - l_{2} \\sin{\\left(\\theta_{1} \\right)} \\sin{\\left(\\theta_{2} \\right)} + l_{2} \\cos{\\left(\\theta_{1} \\right)} \\cos{\\left(\\theta_{2} \\right)} & - l_{2} \\sin{\\left(\\theta_{1} \\right)} \\sin{\\left(\\theta_{2} \\right)} + l_{2} \\cos{\\left(\\theta_{1} \\right)} \\cos{\\left(\\theta_{2} \\right)}\\\\0 & 0\\end{matrix}\\right]$"
      ],
      "text/plain": [
       "Matrix([\n",
       "[-l_1*sin(\\theta_1) - l_2*sin(\\theta_1)*cos(\\theta_2) - l_2*sin(\\theta_2)*cos(\\theta_1), -l_2*sin(\\theta_1)*cos(\\theta_2) - l_2*sin(\\theta_2)*cos(\\theta_1)],\n",
       "[ l_1*cos(\\theta_1) - l_2*sin(\\theta_1)*sin(\\theta_2) + l_2*cos(\\theta_1)*cos(\\theta_2), -l_2*sin(\\theta_1)*sin(\\theta_2) + l_2*cos(\\theta_1)*cos(\\theta_2)],\n",
       "[                                                                                     0,                                                                  0]])"
      ]
     },
     "execution_count": 20,
     "metadata": {},
     "output_type": "execute_result"
    }
   ],
   "source": [
    "J"
   ]
  },
  {
   "cell_type": "code",
   "execution_count": 21,
   "id": "c9fa0ded-e218-4bfd-9623-263df15fcb04",
   "metadata": {},
   "outputs": [
    {
     "data": {
      "text/latex": [
       "$\\displaystyle \\left[\\begin{matrix}-1.46592582628907 & -0.965925826289068\\\\1.12484444888696 & 0.258819045102521\\\\0 & 0\\end{matrix}\\right]$"
      ],
      "text/plain": [
       "Matrix([\n",
       "[-1.46592582628907, -0.965925826289068],\n",
       "[ 1.12484444888696,  0.258819045102521],\n",
       "[                0,                  0]])"
      ]
     },
     "execution_count": 21,
     "metadata": {},
     "output_type": "execute_result"
    }
   ],
   "source": [
    "Jn = J.subs(design).subs(state)\n",
    "Jn"
   ]
  },
  {
   "cell_type": "code",
   "execution_count": null,
   "id": "6b88ebfe-56c4-4813-a5bd-5babcaaccbd9",
   "metadata": {},
   "outputs": [],
   "source": []
  }
 ],
 "metadata": {
  "kernelspec": {
   "display_name": "Python 3 (ipykernel)",
   "language": "python",
   "name": "python3"
  },
  "language_info": {
   "codemirror_mode": {
    "name": "ipython",
    "version": 3
   },
   "file_extension": ".py",
   "mimetype": "text/x-python",
   "name": "python",
   "nbconvert_exporter": "python",
   "pygments_lexer": "ipython3",
   "version": "3.12.3"
  }
 },
 "nbformat": 4,
 "nbformat_minor": 5
}
