{
 "cells": [
  {
   "cell_type": "code",
   "execution_count": 1,
   "id": "c3cfd8b8-2b09-40f9-80d6-0e4ae868b4e6",
   "metadata": {},
   "outputs": [],
   "source": [
    "import sympy\n",
    "from sympy import sin,cos\n",
    "from math import pi\n",
    "import numpy\n",
    "import matplotlib.pyplot as plt\n",
    "import scipy.optimize as so"
   ]
  },
  {
   "cell_type": "code",
   "execution_count": 2,
   "id": "402d5eca-decb-4c0c-a01c-56ded52868f4",
   "metadata": {},
   "outputs": [
    {
     "data": {
      "text/latex": [
       "$\\displaystyle \\theta_{1}$"
      ],
      "text/plain": [
       "\\theta_1"
      ]
     },
     "execution_count": 2,
     "metadata": {},
     "output_type": "execute_result"
    }
   ],
   "source": [
    "q1 = sympy.Symbol('\\\\theta_1')\n",
    "q1"
   ]
  },
  {
   "cell_type": "code",
   "execution_count": 3,
   "id": "dc06172a-0b76-440e-a0aa-78d0081b6a55",
   "metadata": {},
   "outputs": [],
   "source": [
    "q2,q3,q4,q5 = sympy.symbols('\\\\theta_2,\\\\theta_3,\\\\theta_4,\\\\theta_5,')"
   ]
  },
  {
   "cell_type": "code",
   "execution_count": 4,
   "id": "8ffc0948-5be1-468d-91f9-234e3731f429",
   "metadata": {},
   "outputs": [
    {
     "data": {
      "text/latex": [
       "$\\displaystyle \\theta_{2}$"
      ],
      "text/plain": [
       "\\theta_2"
      ]
     },
     "execution_count": 4,
     "metadata": {},
     "output_type": "execute_result"
    }
   ],
   "source": [
    "q2"
   ]
  },
  {
   "cell_type": "code",
   "execution_count": 5,
   "id": "227d1527-5ad4-4f97-a838-eb6e18596577",
   "metadata": {},
   "outputs": [],
   "source": [
    "l1,l2,l3,l4 = sympy.symbols('l_1,l_2,l_3,l_4')"
   ]
  },
  {
   "cell_type": "code",
   "execution_count": 6,
   "id": "1538eb7c-d35b-436b-b638-4992048b8c2b",
   "metadata": {},
   "outputs": [],
   "source": [
    "def Rz(theta):\n",
    "    Rz = sympy.Matrix([[cos(theta),-sin(theta),0],[sin(theta),cos(theta),0],[0,0,1]])\n",
    "    return Rz\n",
    "Rna = Rz(q1)\n",
    "Rab = Rz(q2)\n",
    "Rbc = Rz(q3)\n",
    "Rad = Rz(q4)\n",
    "Rde = Rz(q5)"
   ]
  },
  {
   "cell_type": "code",
   "execution_count": 7,
   "id": "5f74c184-5da0-40f7-bf5a-ea69f6cf1385",
   "metadata": {},
   "outputs": [
    {
     "data": {
      "text/latex": [
       "$\\displaystyle \\left[\\begin{matrix}\\cos{\\left(\\theta_{1} \\right)} & - \\sin{\\left(\\theta_{1} \\right)} & 0\\\\\\sin{\\left(\\theta_{1} \\right)} & \\cos{\\left(\\theta_{1} \\right)} & 0\\\\0 & 0 & 1\\end{matrix}\\right]$"
      ],
      "text/plain": [
       "Matrix([\n",
       "[cos(\\theta_1), -sin(\\theta_1), 0],\n",
       "[sin(\\theta_1),  cos(\\theta_1), 0],\n",
       "[            0,              0, 1]])"
      ]
     },
     "execution_count": 7,
     "metadata": {},
     "output_type": "execute_result"
    }
   ],
   "source": [
    "Rna"
   ]
  },
  {
   "cell_type": "code",
   "execution_count": 8,
   "id": "fea99201-e222-4555-8348-683b48b3579a",
   "metadata": {},
   "outputs": [
    {
     "data": {
      "text/latex": [
       "$\\displaystyle \\left[\\begin{matrix}1\\\\0\\\\0\\end{matrix}\\right]$"
      ],
      "text/plain": [
       "Matrix([\n",
       "[1],\n",
       "[0],\n",
       "[0]])"
      ]
     },
     "execution_count": 8,
     "metadata": {},
     "output_type": "execute_result"
    }
   ],
   "source": [
    "x = sympy.Matrix([1,0,0])\n",
    "x"
   ]
  },
  {
   "cell_type": "code",
   "execution_count": 9,
   "id": "fab0033d-9be4-43d9-bf6c-721bf0fa2ca4",
   "metadata": {},
   "outputs": [
    {
     "data": {
      "text/latex": [
       "$\\displaystyle \\left[\\begin{matrix}l_{1} \\cos{\\left(\\theta_{1} \\right)}\\\\l_{1} \\sin{\\left(\\theta_{1} \\right)}\\\\0\\end{matrix}\\right]$"
      ],
      "text/plain": [
       "Matrix([\n",
       "[l_1*cos(\\theta_1)],\n",
       "[l_1*sin(\\theta_1)],\n",
       "[                0]])"
      ]
     },
     "execution_count": 9,
     "metadata": {},
     "output_type": "execute_result"
    }
   ],
   "source": [
    "v1_in_a = l1*x\n",
    "v1_in_n = Rna*v1_in_a\n",
    "v1_in_n"
   ]
  },
  {
   "cell_type": "code",
   "execution_count": 10,
   "id": "b47ff99b-e934-484f-8782-f45dc9cc7921",
   "metadata": {},
   "outputs": [
    {
     "data": {
      "text/latex": [
       "$\\displaystyle \\left[\\begin{matrix}- l_{2} \\sin{\\left(\\theta_{1} \\right)} \\sin{\\left(\\theta_{2} \\right)} + l_{2} \\cos{\\left(\\theta_{1} \\right)} \\cos{\\left(\\theta_{2} \\right)}\\\\l_{2} \\sin{\\left(\\theta_{1} \\right)} \\cos{\\left(\\theta_{2} \\right)} + l_{2} \\sin{\\left(\\theta_{2} \\right)} \\cos{\\left(\\theta_{1} \\right)}\\\\0\\end{matrix}\\right]$"
      ],
      "text/plain": [
       "Matrix([\n",
       "[-l_2*sin(\\theta_1)*sin(\\theta_2) + l_2*cos(\\theta_1)*cos(\\theta_2)],\n",
       "[ l_2*sin(\\theta_1)*cos(\\theta_2) + l_2*sin(\\theta_2)*cos(\\theta_1)],\n",
       "[                                                                 0]])"
      ]
     },
     "execution_count": 10,
     "metadata": {},
     "output_type": "execute_result"
    }
   ],
   "source": [
    "v2_in_b = l2*x\n",
    "v2_in_a = Rab*v2_in_b\n",
    "v2_in_n = Rna*v2_in_a\n",
    "v2_in_n"
   ]
  },
  {
   "cell_type": "code",
   "execution_count": 11,
   "id": "6cc96e01-14cf-4285-a7e9-98d2fd2f26b3",
   "metadata": {},
   "outputs": [
    {
     "data": {
      "text/latex": [
       "$\\displaystyle \\left[\\begin{matrix}\\left(- l_{3} \\sin{\\left(\\theta_{2} \\right)} \\sin{\\left(\\theta_{3} \\right)} + l_{3} \\cos{\\left(\\theta_{2} \\right)} \\cos{\\left(\\theta_{3} \\right)}\\right) \\cos{\\left(\\theta_{1} \\right)} - \\left(l_{3} \\sin{\\left(\\theta_{2} \\right)} \\cos{\\left(\\theta_{3} \\right)} + l_{3} \\sin{\\left(\\theta_{3} \\right)} \\cos{\\left(\\theta_{2} \\right)}\\right) \\sin{\\left(\\theta_{1} \\right)}\\\\\\left(- l_{3} \\sin{\\left(\\theta_{2} \\right)} \\sin{\\left(\\theta_{3} \\right)} + l_{3} \\cos{\\left(\\theta_{2} \\right)} \\cos{\\left(\\theta_{3} \\right)}\\right) \\sin{\\left(\\theta_{1} \\right)} + \\left(l_{3} \\sin{\\left(\\theta_{2} \\right)} \\cos{\\left(\\theta_{3} \\right)} + l_{3} \\sin{\\left(\\theta_{3} \\right)} \\cos{\\left(\\theta_{2} \\right)}\\right) \\cos{\\left(\\theta_{1} \\right)}\\\\0\\end{matrix}\\right]$"
      ],
      "text/plain": [
       "Matrix([\n",
       "[(-l_3*sin(\\theta_2)*sin(\\theta_3) + l_3*cos(\\theta_2)*cos(\\theta_3))*cos(\\theta_1) - (l_3*sin(\\theta_2)*cos(\\theta_3) + l_3*sin(\\theta_3)*cos(\\theta_2))*sin(\\theta_1)],\n",
       "[(-l_3*sin(\\theta_2)*sin(\\theta_3) + l_3*cos(\\theta_2)*cos(\\theta_3))*sin(\\theta_1) + (l_3*sin(\\theta_2)*cos(\\theta_3) + l_3*sin(\\theta_3)*cos(\\theta_2))*cos(\\theta_1)],\n",
       "[                                                                                                                                                                     0]])"
      ]
     },
     "execution_count": 11,
     "metadata": {},
     "output_type": "execute_result"
    }
   ],
   "source": [
    "v3_in_c = l3*x\n",
    "v3_in_b = Rbc*v3_in_c\n",
    "v3_in_a = Rab*v3_in_b\n",
    "v3_in_n = Rna*v3_in_a\n",
    "v3_in_n"
   ]
  },
  {
   "cell_type": "code",
   "execution_count": 12,
   "id": "12cfc3c2-af08-4c82-bbc5-fedaad4dd2d8",
   "metadata": {},
   "outputs": [
    {
     "data": {
      "text/latex": [
       "$\\displaystyle \\left[\\begin{matrix}- l_{4} \\sin{\\left(\\theta_{1} \\right)} \\sin{\\left(\\theta_{4} \\right)} + l_{4} \\cos{\\left(\\theta_{1} \\right)} \\cos{\\left(\\theta_{4} \\right)}\\\\l_{4} \\sin{\\left(\\theta_{1} \\right)} \\cos{\\left(\\theta_{4} \\right)} + l_{4} \\sin{\\left(\\theta_{4} \\right)} \\cos{\\left(\\theta_{1} \\right)}\\\\0\\end{matrix}\\right]$"
      ],
      "text/plain": [
       "Matrix([\n",
       "[-l_4*sin(\\theta_1)*sin(\\theta_4) + l_4*cos(\\theta_1)*cos(\\theta_4)],\n",
       "[ l_4*sin(\\theta_1)*cos(\\theta_4) + l_4*sin(\\theta_4)*cos(\\theta_1)],\n",
       "[                                                                 0]])"
      ]
     },
     "execution_count": 12,
     "metadata": {},
     "output_type": "execute_result"
    }
   ],
   "source": [
    "v4_in_d = l4*x\n",
    "v4_in_a = Rad*v4_in_d\n",
    "v4_in_n = Rna*v4_in_a\n",
    "v4_in_n"
   ]
  },
  {
   "cell_type": "code",
   "execution_count": 13,
   "id": "18028140-62bb-48aa-aaba-1a438cff7e1e",
   "metadata": {},
   "outputs": [
    {
     "data": {
      "text/latex": [
       "$\\displaystyle \\left[\\begin{matrix}\\left(- l_{3} \\sin{\\left(\\theta_{4} \\right)} \\sin{\\left(\\theta_{5} \\right)} + l_{3} \\cos{\\left(\\theta_{4} \\right)} \\cos{\\left(\\theta_{5} \\right)}\\right) \\cos{\\left(\\theta_{1} \\right)} - \\left(l_{3} \\sin{\\left(\\theta_{4} \\right)} \\cos{\\left(\\theta_{5} \\right)} + l_{3} \\sin{\\left(\\theta_{5} \\right)} \\cos{\\left(\\theta_{4} \\right)}\\right) \\sin{\\left(\\theta_{1} \\right)}\\\\\\left(- l_{3} \\sin{\\left(\\theta_{4} \\right)} \\sin{\\left(\\theta_{5} \\right)} + l_{3} \\cos{\\left(\\theta_{4} \\right)} \\cos{\\left(\\theta_{5} \\right)}\\right) \\sin{\\left(\\theta_{1} \\right)} + \\left(l_{3} \\sin{\\left(\\theta_{4} \\right)} \\cos{\\left(\\theta_{5} \\right)} + l_{3} \\sin{\\left(\\theta_{5} \\right)} \\cos{\\left(\\theta_{4} \\right)}\\right) \\cos{\\left(\\theta_{1} \\right)}\\\\0\\end{matrix}\\right]$"
      ],
      "text/plain": [
       "Matrix([\n",
       "[(-l_3*sin(\\theta_4)*sin(\\theta_5) + l_3*cos(\\theta_4)*cos(\\theta_5))*cos(\\theta_1) - (l_3*sin(\\theta_4)*cos(\\theta_5) + l_3*sin(\\theta_5)*cos(\\theta_4))*sin(\\theta_1)],\n",
       "[(-l_3*sin(\\theta_4)*sin(\\theta_5) + l_3*cos(\\theta_4)*cos(\\theta_5))*sin(\\theta_1) + (l_3*sin(\\theta_4)*cos(\\theta_5) + l_3*sin(\\theta_5)*cos(\\theta_4))*cos(\\theta_1)],\n",
       "[                                                                                                                                                                     0]])"
      ]
     },
     "execution_count": 13,
     "metadata": {},
     "output_type": "execute_result"
    }
   ],
   "source": [
    "v5_in_e = l3*x\n",
    "v5_in_d = Rde*v5_in_e\n",
    "v5_in_a = Rad*v5_in_d\n",
    "v5_in_n = Rna*v5_in_a\n",
    "v5_in_n"
   ]
  },
  {
   "cell_type": "code",
   "execution_count": 14,
   "id": "2d7c2753-2ef4-4c3a-a30f-c0c9f918aa7e",
   "metadata": {},
   "outputs": [],
   "source": [
    "o = 0*x\n",
    "p2 = o+v1_in_n +v2_in_n\n",
    "p5 = o+v4_in_n +v5_in_n\n",
    "\n",
    "p3 = o+v1_in_n +v2_in_n+v3_in_n\n",
    "p4 = o+v4_in_n"
   ]
  },
  {
   "cell_type": "code",
   "execution_count": 15,
   "id": "913e1dbc-be8b-4722-8a1f-e695254c220c",
   "metadata": {},
   "outputs": [
    {
     "data": {
      "text/latex": [
       "$\\displaystyle \\left[\\begin{matrix}l_{1} \\cos{\\left(\\theta_{1} \\right)} - l_{2} \\sin{\\left(\\theta_{1} \\right)} \\sin{\\left(\\theta_{2} \\right)} + l_{2} \\cos{\\left(\\theta_{1} \\right)} \\cos{\\left(\\theta_{2} \\right)} + l_{4} \\sin{\\left(\\theta_{1} \\right)} \\sin{\\left(\\theta_{4} \\right)} - l_{4} \\cos{\\left(\\theta_{1} \\right)} \\cos{\\left(\\theta_{4} \\right)} - \\left(- l_{3} \\sin{\\left(\\theta_{4} \\right)} \\sin{\\left(\\theta_{5} \\right)} + l_{3} \\cos{\\left(\\theta_{4} \\right)} \\cos{\\left(\\theta_{5} \\right)}\\right) \\cos{\\left(\\theta_{1} \\right)} + \\left(l_{3} \\sin{\\left(\\theta_{4} \\right)} \\cos{\\left(\\theta_{5} \\right)} + l_{3} \\sin{\\left(\\theta_{5} \\right)} \\cos{\\left(\\theta_{4} \\right)}\\right) \\sin{\\left(\\theta_{1} \\right)}\\\\l_{1} \\sin{\\left(\\theta_{1} \\right)} + l_{2} \\sin{\\left(\\theta_{1} \\right)} \\cos{\\left(\\theta_{2} \\right)} + l_{2} \\sin{\\left(\\theta_{2} \\right)} \\cos{\\left(\\theta_{1} \\right)} - l_{4} \\sin{\\left(\\theta_{1} \\right)} \\cos{\\left(\\theta_{4} \\right)} - l_{4} \\sin{\\left(\\theta_{4} \\right)} \\cos{\\left(\\theta_{1} \\right)} - \\left(- l_{3} \\sin{\\left(\\theta_{4} \\right)} \\sin{\\left(\\theta_{5} \\right)} + l_{3} \\cos{\\left(\\theta_{4} \\right)} \\cos{\\left(\\theta_{5} \\right)}\\right) \\sin{\\left(\\theta_{1} \\right)} - \\left(l_{3} \\sin{\\left(\\theta_{4} \\right)} \\cos{\\left(\\theta_{5} \\right)} + l_{3} \\sin{\\left(\\theta_{5} \\right)} \\cos{\\left(\\theta_{4} \\right)}\\right) \\cos{\\left(\\theta_{1} \\right)}\\\\0\\end{matrix}\\right]$"
      ],
      "text/plain": [
       "Matrix([\n",
       "[l_1*cos(\\theta_1) - l_2*sin(\\theta_1)*sin(\\theta_2) + l_2*cos(\\theta_1)*cos(\\theta_2) + l_4*sin(\\theta_1)*sin(\\theta_4) - l_4*cos(\\theta_1)*cos(\\theta_4) - (-l_3*sin(\\theta_4)*sin(\\theta_5) + l_3*cos(\\theta_4)*cos(\\theta_5))*cos(\\theta_1) + (l_3*sin(\\theta_4)*cos(\\theta_5) + l_3*sin(\\theta_5)*cos(\\theta_4))*sin(\\theta_1)],\n",
       "[l_1*sin(\\theta_1) + l_2*sin(\\theta_1)*cos(\\theta_2) + l_2*sin(\\theta_2)*cos(\\theta_1) - l_4*sin(\\theta_1)*cos(\\theta_4) - l_4*sin(\\theta_4)*cos(\\theta_1) - (-l_3*sin(\\theta_4)*sin(\\theta_5) + l_3*cos(\\theta_4)*cos(\\theta_5))*sin(\\theta_1) - (l_3*sin(\\theta_4)*cos(\\theta_5) + l_3*sin(\\theta_5)*cos(\\theta_4))*cos(\\theta_1)],\n",
       "[                                                                                                                                                                                                                                                                                                                                 0]])"
      ]
     },
     "execution_count": 15,
     "metadata": {},
     "output_type": "execute_result"
    }
   ],
   "source": [
    "zero_vec = p2-p5\n",
    "zero_vec"
   ]
  },
  {
   "cell_type": "code",
   "execution_count": 16,
   "id": "2f36cfd3-59c0-4946-82e3-f32d44c382af",
   "metadata": {},
   "outputs": [],
   "source": [
    "zero_vec.simplify()"
   ]
  },
  {
   "cell_type": "code",
   "execution_count": 17,
   "id": "0b1d56ff-4492-4a96-9e81-c269b9e06c2d",
   "metadata": {},
   "outputs": [
    {
     "data": {
      "text/latex": [
       "$\\displaystyle \\left[\\begin{matrix}l_{1} \\cos{\\left(\\theta_{1} \\right)} + l_{2} \\cos{\\left(\\theta_{1} + \\theta_{2} \\right)} - l_{3} \\cos{\\left(\\theta_{1} + \\theta_{4} + \\theta_{5} \\right)} - l_{4} \\cos{\\left(\\theta_{1} + \\theta_{4} \\right)}\\\\l_{1} \\sin{\\left(\\theta_{1} \\right)} + l_{2} \\sin{\\left(\\theta_{1} + \\theta_{2} \\right)} - l_{3} \\sin{\\left(\\theta_{1} + \\theta_{4} + \\theta_{5} \\right)} - l_{4} \\sin{\\left(\\theta_{1} + \\theta_{4} \\right)}\\\\0\\end{matrix}\\right]$"
      ],
      "text/plain": [
       "Matrix([\n",
       "[l_1*cos(\\theta_1) + l_2*cos(\\theta_1 + \\theta_2) - l_3*cos(\\theta_1 + \\theta_4 + \\theta_5) - l_4*cos(\\theta_1 + \\theta_4)],\n",
       "[l_1*sin(\\theta_1) + l_2*sin(\\theta_1 + \\theta_2) - l_3*sin(\\theta_1 + \\theta_4 + \\theta_5) - l_4*sin(\\theta_1 + \\theta_4)],\n",
       "[                                                                                                                        0]])"
      ]
     },
     "execution_count": 17,
     "metadata": {},
     "output_type": "execute_result"
    }
   ],
   "source": [
    "zero_vec"
   ]
  },
  {
   "cell_type": "code",
   "execution_count": 18,
   "id": "7b482dc4-9e2c-40da-acb7-f86e3f44bd2b",
   "metadata": {},
   "outputs": [
    {
     "data": {
      "text/plain": [
       "[Matrix([[l_1*cos(\\theta_1) + l_2*cos(\\theta_1 + \\theta_2) - l_3*cos(\\theta_1 + \\theta_4 + \\theta_5) - l_4*cos(\\theta_1 + \\theta_4)]]),\n",
       " Matrix([[l_1*sin(\\theta_1) + l_2*sin(\\theta_1 + \\theta_2) - l_3*sin(\\theta_1 + \\theta_4 + \\theta_5) - l_4*sin(\\theta_1 + \\theta_4)]])]"
      ]
     },
     "execution_count": 18,
     "metadata": {},
     "output_type": "execute_result"
    }
   ],
   "source": [
    "zero = []\n",
    "zero.append(zero_vec.T*sympy.Matrix([1,0,0]))\n",
    "zero.append(zero_vec.T*sympy.Matrix([0,1,0]))\n",
    "zero"
   ]
  },
  {
   "cell_type": "code",
   "execution_count": 19,
   "id": "c137fabc-78eb-43d1-b789-7f39afa833fd",
   "metadata": {},
   "outputs": [],
   "source": [
    "zero.append(q1)"
   ]
  },
  {
   "cell_type": "code",
   "execution_count": 20,
   "id": "625e3e8e-c335-4d2a-902e-5cff9b085b34",
   "metadata": {},
   "outputs": [
    {
     "data": {
      "text/latex": [
       "$\\displaystyle l_{3}^{2} + \\left(\\left(- l_{3} \\sin{\\left(\\theta_{2} \\right)} \\sin{\\left(\\theta_{3} \\right)} + l_{3} \\cos{\\left(\\theta_{2} \\right)} \\cos{\\left(\\theta_{3} \\right)}\\right) \\sin{\\left(\\theta_{1} \\right)} + \\left(l_{3} \\sin{\\left(\\theta_{2} \\right)} \\cos{\\left(\\theta_{3} \\right)} + l_{3} \\sin{\\left(\\theta_{3} \\right)} \\cos{\\left(\\theta_{2} \\right)}\\right) \\cos{\\left(\\theta_{1} \\right)}\\right) \\left(\\left(- l_{3} \\sin{\\left(\\theta_{4} \\right)} \\sin{\\left(\\theta_{5} \\right)} + l_{3} \\cos{\\left(\\theta_{4} \\right)} \\cos{\\left(\\theta_{5} \\right)}\\right) \\sin{\\left(\\theta_{1} \\right)} + \\left(l_{3} \\sin{\\left(\\theta_{4} \\right)} \\cos{\\left(\\theta_{5} \\right)} + l_{3} \\sin{\\left(\\theta_{5} \\right)} \\cos{\\left(\\theta_{4} \\right)}\\right) \\cos{\\left(\\theta_{1} \\right)}\\right) + \\left(\\left(- l_{3} \\sin{\\left(\\theta_{2} \\right)} \\sin{\\left(\\theta_{3} \\right)} + l_{3} \\cos{\\left(\\theta_{2} \\right)} \\cos{\\left(\\theta_{3} \\right)}\\right) \\cos{\\left(\\theta_{1} \\right)} - \\left(l_{3} \\sin{\\left(\\theta_{2} \\right)} \\cos{\\left(\\theta_{3} \\right)} + l_{3} \\sin{\\left(\\theta_{3} \\right)} \\cos{\\left(\\theta_{2} \\right)}\\right) \\sin{\\left(\\theta_{1} \\right)}\\right) \\left(\\left(- l_{3} \\sin{\\left(\\theta_{4} \\right)} \\sin{\\left(\\theta_{5} \\right)} + l_{3} \\cos{\\left(\\theta_{4} \\right)} \\cos{\\left(\\theta_{5} \\right)}\\right) \\cos{\\left(\\theta_{1} \\right)} - \\left(l_{3} \\sin{\\left(\\theta_{4} \\right)} \\cos{\\left(\\theta_{5} \\right)} + l_{3} \\sin{\\left(\\theta_{5} \\right)} \\cos{\\left(\\theta_{4} \\right)}\\right) \\sin{\\left(\\theta_{1} \\right)}\\right)$"
      ],
      "text/plain": [
       "l_3**2 + ((-l_3*sin(\\theta_2)*sin(\\theta_3) + l_3*cos(\\theta_2)*cos(\\theta_3))*sin(\\theta_1) + (l_3*sin(\\theta_2)*cos(\\theta_3) + l_3*sin(\\theta_3)*cos(\\theta_2))*cos(\\theta_1))*((-l_3*sin(\\theta_4)*sin(\\theta_5) + l_3*cos(\\theta_4)*cos(\\theta_5))*sin(\\theta_1) + (l_3*sin(\\theta_4)*cos(\\theta_5) + l_3*sin(\\theta_5)*cos(\\theta_4))*cos(\\theta_1)) + ((-l_3*sin(\\theta_2)*sin(\\theta_3) + l_3*cos(\\theta_2)*cos(\\theta_3))*cos(\\theta_1) - (l_3*sin(\\theta_2)*cos(\\theta_3) + l_3*sin(\\theta_3)*cos(\\theta_2))*sin(\\theta_1))*((-l_3*sin(\\theta_4)*sin(\\theta_5) + l_3*cos(\\theta_4)*cos(\\theta_5))*cos(\\theta_1) - (l_3*sin(\\theta_4)*cos(\\theta_5) + l_3*sin(\\theta_5)*cos(\\theta_4))*sin(\\theta_1))"
      ]
     },
     "execution_count": 20,
     "metadata": {},
     "output_type": "execute_result"
    }
   ],
   "source": [
    "zero.append((v3_in_n.T*v5_in_n)[0]+l3**2)\n",
    "zero[-1]"
   ]
  },
  {
   "cell_type": "code",
   "execution_count": 21,
   "id": "a4f9dfb5-0cea-4700-bb86-9f08a82da7fe",
   "metadata": {},
   "outputs": [],
   "source": [
    "zero.append(q4-pi/180*30)"
   ]
  },
  {
   "cell_type": "code",
   "execution_count": 22,
   "id": "fb6b09da-d86f-42a3-a4cf-804ae3ea8e1f",
   "metadata": {},
   "outputs": [
    {
     "data": {
      "text/latex": [
       "$\\displaystyle \\left[\\begin{matrix}l_{1} \\cos{\\left(\\theta_{1} \\right)} + l_{2} \\cos{\\left(\\theta_{1} + \\theta_{2} \\right)} - l_{3} \\cos{\\left(\\theta_{1} + \\theta_{4} + \\theta_{5} \\right)} - l_{4} \\cos{\\left(\\theta_{1} + \\theta_{4} \\right)}\\\\l_{1} \\sin{\\left(\\theta_{1} \\right)} + l_{2} \\sin{\\left(\\theta_{1} + \\theta_{2} \\right)} - l_{3} \\sin{\\left(\\theta_{1} + \\theta_{4} + \\theta_{5} \\right)} - l_{4} \\sin{\\left(\\theta_{1} + \\theta_{4} \\right)}\\\\\\theta_{1}\\\\l_{3}^{2} \\left(\\cos{\\left(\\theta_{2} + \\theta_{3} - \\theta_{4} - \\theta_{5} \\right)} + 1\\right)\\\\\\theta_{4} - 0.523598775598299\\end{matrix}\\right]$"
      ],
      "text/plain": [
       "Matrix([\n",
       "[l_1*cos(\\theta_1) + l_2*cos(\\theta_1 + \\theta_2) - l_3*cos(\\theta_1 + \\theta_4 + \\theta_5) - l_4*cos(\\theta_1 + \\theta_4)],\n",
       "[l_1*sin(\\theta_1) + l_2*sin(\\theta_1 + \\theta_2) - l_3*sin(\\theta_1 + \\theta_4 + \\theta_5) - l_4*sin(\\theta_1 + \\theta_4)],\n",
       "[                                                                                                                 \\theta_1],\n",
       "[                                                              l_3**2*(cos(\\theta_2 + \\theta_3 - \\theta_4 - \\theta_5) + 1)],\n",
       "[                                                                                             \\theta_4 - 0.523598775598299]])"
      ]
     },
     "execution_count": 22,
     "metadata": {},
     "output_type": "execute_result"
    }
   ],
   "source": [
    "zero = sympy.Matrix(zero)\n",
    "zero.simplify()\n",
    "zero"
   ]
  },
  {
   "cell_type": "code",
   "execution_count": 23,
   "id": "674d78e7-a836-4c95-ba61-1906f82b0609",
   "metadata": {},
   "outputs": [
    {
     "data": {
      "text/plain": [
       "{\\theta_1, \\theta_2, \\theta_3, \\theta_4, \\theta_5, l_1, l_2, l_3, l_4}"
      ]
     },
     "execution_count": 23,
     "metadata": {},
     "output_type": "execute_result"
    }
   ],
   "source": [
    "zero.atoms(sympy.Symbol)"
   ]
  },
  {
   "cell_type": "code",
   "execution_count": 24,
   "id": "5029b513-9880-4d27-a4cd-3e6d8117be30",
   "metadata": {},
   "outputs": [],
   "source": [
    "design = {}\n",
    "design[l1] = .5\n",
    "design[l2] = 1\n",
    "design[l3] = 1.1\n",
    "design[l4] = .9"
   ]
  },
  {
   "cell_type": "code",
   "execution_count": 25,
   "id": "38da95d0-5ae4-42a8-a3bf-a001ad9ebee7",
   "metadata": {},
   "outputs": [
    {
     "data": {
      "text/latex": [
       "$\\displaystyle \\left[\\begin{matrix}0.5 \\cos{\\left(\\theta_{1} \\right)} + \\cos{\\left(\\theta_{1} + \\theta_{2} \\right)} - 0.9 \\cos{\\left(\\theta_{1} + \\theta_{4} \\right)} - 1.1 \\cos{\\left(\\theta_{1} + \\theta_{4} + \\theta_{5} \\right)}\\\\0.5 \\sin{\\left(\\theta_{1} \\right)} + \\sin{\\left(\\theta_{1} + \\theta_{2} \\right)} - 0.9 \\sin{\\left(\\theta_{1} + \\theta_{4} \\right)} - 1.1 \\sin{\\left(\\theta_{1} + \\theta_{4} + \\theta_{5} \\right)}\\\\\\theta_{1}\\\\1.21 \\cos{\\left(\\theta_{2} + \\theta_{3} - \\theta_{4} - \\theta_{5} \\right)} + 1.21\\\\\\theta_{4} - 0.523598775598299\\end{matrix}\\right]$"
      ],
      "text/plain": [
       "Matrix([\n",
       "[0.5*cos(\\theta_1) + cos(\\theta_1 + \\theta_2) - 0.9*cos(\\theta_1 + \\theta_4) - 1.1*cos(\\theta_1 + \\theta_4 + \\theta_5)],\n",
       "[0.5*sin(\\theta_1) + sin(\\theta_1 + \\theta_2) - 0.9*sin(\\theta_1 + \\theta_4) - 1.1*sin(\\theta_1 + \\theta_4 + \\theta_5)],\n",
       "[                                                                                                             \\theta_1],\n",
       "[                                                           1.21*cos(\\theta_2 + \\theta_3 - \\theta_4 - \\theta_5) + 1.21],\n",
       "[                                                                                         \\theta_4 - 0.523598775598299]])"
      ]
     },
     "execution_count": 25,
     "metadata": {},
     "output_type": "execute_result"
    }
   ],
   "source": [
    "zero_design = zero.subs(design)\n",
    "zero_design"
   ]
  },
  {
   "cell_type": "code",
   "execution_count": 26,
   "id": "8ace49da-80d4-4785-a1e9-8870bb9843d0",
   "metadata": {},
   "outputs": [],
   "source": [
    "def objective_function(variables):\n",
    "    q1n,q2n,q3n,q4n,q5n = variables\n",
    "\n",
    "    state = {}\n",
    "    state[q1] = q1n\n",
    "    state[q2] = q2n\n",
    "    state[q3] = q3n\n",
    "    state[q4] = q4n\n",
    "    state[q5] = q5n\n",
    "\n",
    "    zero_n = zero_design.subs(state)\n",
    "    sos = ((zero_n.T*zero_n)[0])**.5\n",
    "    return float(sos)\n",
    "\n",
    "\n"
   ]
  },
  {
   "cell_type": "code",
   "execution_count": 27,
   "id": "79e6aae0-85a2-4740-97c6-7155866aa1a3",
   "metadata": {},
   "outputs": [
    {
     "data": {
      "text/plain": [
       "array([ 0.        ,  0.52359878,  2.61799388,  0.52359878, -0.52359878])"
      ]
     },
     "execution_count": 27,
     "metadata": {},
     "output_type": "execute_result"
    }
   ],
   "source": [
    "ini = numpy.array([0,30,150,30,-30])*pi/180\n",
    "ini"
   ]
  },
  {
   "cell_type": "code",
   "execution_count": 28,
   "id": "1124afaf-6e1e-4ff8-8ef6-146bf6c5b69c",
   "metadata": {},
   "outputs": [
    {
     "data": {
      "text/plain": [
       "0.5158264742584151"
      ]
     },
     "execution_count": 28,
     "metadata": {},
     "output_type": "execute_result"
    }
   ],
   "source": [
    "objective_function(ini)"
   ]
  },
  {
   "cell_type": "code",
   "execution_count": 29,
   "id": "5cf5148b-8bce-48ea-9721-7d7bd8623858",
   "metadata": {},
   "outputs": [],
   "source": [
    "p1 = o+v1_in_n"
   ]
  },
  {
   "cell_type": "code",
   "execution_count": 30,
   "id": "f8d21b5f-2d1d-418c-bc68-19f77b865b33",
   "metadata": {},
   "outputs": [
    {
     "data": {
      "text/latex": [
       "$\\displaystyle \\left[\\begin{matrix}- l_{4} \\sin{\\left(\\theta_{1} \\right)} \\sin{\\left(\\theta_{4} \\right)} + l_{4} \\cos{\\left(\\theta_{1} \\right)} \\cos{\\left(\\theta_{4} \\right)} + \\left(- l_{3} \\sin{\\left(\\theta_{4} \\right)} \\sin{\\left(\\theta_{5} \\right)} + l_{3} \\cos{\\left(\\theta_{4} \\right)} \\cos{\\left(\\theta_{5} \\right)}\\right) \\cos{\\left(\\theta_{1} \\right)} - \\left(l_{3} \\sin{\\left(\\theta_{4} \\right)} \\cos{\\left(\\theta_{5} \\right)} + l_{3} \\sin{\\left(\\theta_{5} \\right)} \\cos{\\left(\\theta_{4} \\right)}\\right) \\sin{\\left(\\theta_{1} \\right)} & l_{4} \\sin{\\left(\\theta_{1} \\right)} \\cos{\\left(\\theta_{4} \\right)} + l_{4} \\sin{\\left(\\theta_{4} \\right)} \\cos{\\left(\\theta_{1} \\right)} + \\left(- l_{3} \\sin{\\left(\\theta_{4} \\right)} \\sin{\\left(\\theta_{5} \\right)} + l_{3} \\cos{\\left(\\theta_{4} \\right)} \\cos{\\left(\\theta_{5} \\right)}\\right) \\sin{\\left(\\theta_{1} \\right)} + \\left(l_{3} \\sin{\\left(\\theta_{4} \\right)} \\cos{\\left(\\theta_{5} \\right)} + l_{3} \\sin{\\left(\\theta_{5} \\right)} \\cos{\\left(\\theta_{4} \\right)}\\right) \\cos{\\left(\\theta_{1} \\right)} & 0\\\\- l_{4} \\sin{\\left(\\theta_{1} \\right)} \\sin{\\left(\\theta_{4} \\right)} + l_{4} \\cos{\\left(\\theta_{1} \\right)} \\cos{\\left(\\theta_{4} \\right)} & l_{4} \\sin{\\left(\\theta_{1} \\right)} \\cos{\\left(\\theta_{4} \\right)} + l_{4} \\sin{\\left(\\theta_{4} \\right)} \\cos{\\left(\\theta_{1} \\right)} & 0\\\\0 & 0 & 0\\\\l_{1} \\cos{\\left(\\theta_{1} \\right)} & l_{1} \\sin{\\left(\\theta_{1} \\right)} & 0\\\\l_{1} \\cos{\\left(\\theta_{1} \\right)} - l_{2} \\sin{\\left(\\theta_{1} \\right)} \\sin{\\left(\\theta_{2} \\right)} + l_{2} \\cos{\\left(\\theta_{1} \\right)} \\cos{\\left(\\theta_{2} \\right)} & l_{1} \\sin{\\left(\\theta_{1} \\right)} + l_{2} \\sin{\\left(\\theta_{1} \\right)} \\cos{\\left(\\theta_{2} \\right)} + l_{2} \\sin{\\left(\\theta_{2} \\right)} \\cos{\\left(\\theta_{1} \\right)} & 0\\\\l_{1} \\cos{\\left(\\theta_{1} \\right)} - l_{2} \\sin{\\left(\\theta_{1} \\right)} \\sin{\\left(\\theta_{2} \\right)} + l_{2} \\cos{\\left(\\theta_{1} \\right)} \\cos{\\left(\\theta_{2} \\right)} + \\left(- l_{3} \\sin{\\left(\\theta_{2} \\right)} \\sin{\\left(\\theta_{3} \\right)} + l_{3} \\cos{\\left(\\theta_{2} \\right)} \\cos{\\left(\\theta_{3} \\right)}\\right) \\cos{\\left(\\theta_{1} \\right)} - \\left(l_{3} \\sin{\\left(\\theta_{2} \\right)} \\cos{\\left(\\theta_{3} \\right)} + l_{3} \\sin{\\left(\\theta_{3} \\right)} \\cos{\\left(\\theta_{2} \\right)}\\right) \\sin{\\left(\\theta_{1} \\right)} & l_{1} \\sin{\\left(\\theta_{1} \\right)} + l_{2} \\sin{\\left(\\theta_{1} \\right)} \\cos{\\left(\\theta_{2} \\right)} + l_{2} \\sin{\\left(\\theta_{2} \\right)} \\cos{\\left(\\theta_{1} \\right)} + \\left(- l_{3} \\sin{\\left(\\theta_{2} \\right)} \\sin{\\left(\\theta_{3} \\right)} + l_{3} \\cos{\\left(\\theta_{2} \\right)} \\cos{\\left(\\theta_{3} \\right)}\\right) \\sin{\\left(\\theta_{1} \\right)} + \\left(l_{3} \\sin{\\left(\\theta_{2} \\right)} \\cos{\\left(\\theta_{3} \\right)} + l_{3} \\sin{\\left(\\theta_{3} \\right)} \\cos{\\left(\\theta_{2} \\right)}\\right) \\cos{\\left(\\theta_{1} \\right)} & 0\\end{matrix}\\right]$"
      ],
      "text/plain": [
       "Matrix([\n",
       "[                   -l_4*sin(\\theta_1)*sin(\\theta_4) + l_4*cos(\\theta_1)*cos(\\theta_4) + (-l_3*sin(\\theta_4)*sin(\\theta_5) + l_3*cos(\\theta_4)*cos(\\theta_5))*cos(\\theta_1) - (l_3*sin(\\theta_4)*cos(\\theta_5) + l_3*sin(\\theta_5)*cos(\\theta_4))*sin(\\theta_1),                     l_4*sin(\\theta_1)*cos(\\theta_4) + l_4*sin(\\theta_4)*cos(\\theta_1) + (-l_3*sin(\\theta_4)*sin(\\theta_5) + l_3*cos(\\theta_4)*cos(\\theta_5))*sin(\\theta_1) + (l_3*sin(\\theta_4)*cos(\\theta_5) + l_3*sin(\\theta_5)*cos(\\theta_4))*cos(\\theta_1), 0],\n",
       "[                                                                                                                                                                                            -l_4*sin(\\theta_1)*sin(\\theta_4) + l_4*cos(\\theta_1)*cos(\\theta_4),                                                                                                                                                                                              l_4*sin(\\theta_1)*cos(\\theta_4) + l_4*sin(\\theta_4)*cos(\\theta_1), 0],\n",
       "[                                                                                                                                                                                                                                                             0,                                                                                                                                                                                                                                                              0, 0],\n",
       "[                                                                                                                                                                                                                                             l_1*cos(\\theta_1),                                                                                                                                                                                                                                              l_1*sin(\\theta_1), 0],\n",
       "[                                                                                                                                                                         l_1*cos(\\theta_1) - l_2*sin(\\theta_1)*sin(\\theta_2) + l_2*cos(\\theta_1)*cos(\\theta_2),                                                                                                                                                                          l_1*sin(\\theta_1) + l_2*sin(\\theta_1)*cos(\\theta_2) + l_2*sin(\\theta_2)*cos(\\theta_1), 0],\n",
       "[l_1*cos(\\theta_1) - l_2*sin(\\theta_1)*sin(\\theta_2) + l_2*cos(\\theta_1)*cos(\\theta_2) + (-l_3*sin(\\theta_2)*sin(\\theta_3) + l_3*cos(\\theta_2)*cos(\\theta_3))*cos(\\theta_1) - (l_3*sin(\\theta_2)*cos(\\theta_3) + l_3*sin(\\theta_3)*cos(\\theta_2))*sin(\\theta_1), l_1*sin(\\theta_1) + l_2*sin(\\theta_1)*cos(\\theta_2) + l_2*sin(\\theta_2)*cos(\\theta_1) + (-l_3*sin(\\theta_2)*sin(\\theta_3) + l_3*cos(\\theta_2)*cos(\\theta_3))*sin(\\theta_1) + (l_3*sin(\\theta_2)*cos(\\theta_3) + l_3*sin(\\theta_3)*cos(\\theta_2))*cos(\\theta_1), 0]])"
      ]
     },
     "execution_count": 30,
     "metadata": {},
     "output_type": "execute_result"
    }
   ],
   "source": [
    "points = sympy.Matrix([p5.T,p4.T,o.T,p1.T,p2.T,p3.T])\n",
    "points"
   ]
  },
  {
   "cell_type": "code",
   "execution_count": 31,
   "id": "377df51d-5156-44ac-91d2-c41bed7da1e9",
   "metadata": {},
   "outputs": [
    {
     "data": {
      "text/latex": [
       "$\\displaystyle \\left[\\begin{matrix}\\left(- 1.1 \\sin{\\left(\\theta_{4} \\right)} \\sin{\\left(\\theta_{5} \\right)} + 1.1 \\cos{\\left(\\theta_{4} \\right)} \\cos{\\left(\\theta_{5} \\right)}\\right) \\cos{\\left(\\theta_{1} \\right)} - \\left(1.1 \\sin{\\left(\\theta_{4} \\right)} \\cos{\\left(\\theta_{5} \\right)} + 1.1 \\sin{\\left(\\theta_{5} \\right)} \\cos{\\left(\\theta_{4} \\right)}\\right) \\sin{\\left(\\theta_{1} \\right)} - 0.9 \\sin{\\left(\\theta_{1} \\right)} \\sin{\\left(\\theta_{4} \\right)} + 0.9 \\cos{\\left(\\theta_{1} \\right)} \\cos{\\left(\\theta_{4} \\right)} & \\left(- 1.1 \\sin{\\left(\\theta_{4} \\right)} \\sin{\\left(\\theta_{5} \\right)} + 1.1 \\cos{\\left(\\theta_{4} \\right)} \\cos{\\left(\\theta_{5} \\right)}\\right) \\sin{\\left(\\theta_{1} \\right)} + \\left(1.1 \\sin{\\left(\\theta_{4} \\right)} \\cos{\\left(\\theta_{5} \\right)} + 1.1 \\sin{\\left(\\theta_{5} \\right)} \\cos{\\left(\\theta_{4} \\right)}\\right) \\cos{\\left(\\theta_{1} \\right)} + 0.9 \\sin{\\left(\\theta_{1} \\right)} \\cos{\\left(\\theta_{4} \\right)} + 0.9 \\sin{\\left(\\theta_{4} \\right)} \\cos{\\left(\\theta_{1} \\right)} & 0\\\\- 0.9 \\sin{\\left(\\theta_{1} \\right)} \\sin{\\left(\\theta_{4} \\right)} + 0.9 \\cos{\\left(\\theta_{1} \\right)} \\cos{\\left(\\theta_{4} \\right)} & 0.9 \\sin{\\left(\\theta_{1} \\right)} \\cos{\\left(\\theta_{4} \\right)} + 0.9 \\sin{\\left(\\theta_{4} \\right)} \\cos{\\left(\\theta_{1} \\right)} & 0\\\\0 & 0 & 0\\\\0.5 \\cos{\\left(\\theta_{1} \\right)} & 0.5 \\sin{\\left(\\theta_{1} \\right)} & 0\\\\- \\sin{\\left(\\theta_{1} \\right)} \\sin{\\left(\\theta_{2} \\right)} + \\cos{\\left(\\theta_{1} \\right)} \\cos{\\left(\\theta_{2} \\right)} + 0.5 \\cos{\\left(\\theta_{1} \\right)} & \\sin{\\left(\\theta_{1} \\right)} \\cos{\\left(\\theta_{2} \\right)} + 0.5 \\sin{\\left(\\theta_{1} \\right)} + \\sin{\\left(\\theta_{2} \\right)} \\cos{\\left(\\theta_{1} \\right)} & 0\\\\\\left(- 1.1 \\sin{\\left(\\theta_{2} \\right)} \\sin{\\left(\\theta_{3} \\right)} + 1.1 \\cos{\\left(\\theta_{2} \\right)} \\cos{\\left(\\theta_{3} \\right)}\\right) \\cos{\\left(\\theta_{1} \\right)} - \\left(1.1 \\sin{\\left(\\theta_{2} \\right)} \\cos{\\left(\\theta_{3} \\right)} + 1.1 \\sin{\\left(\\theta_{3} \\right)} \\cos{\\left(\\theta_{2} \\right)}\\right) \\sin{\\left(\\theta_{1} \\right)} - \\sin{\\left(\\theta_{1} \\right)} \\sin{\\left(\\theta_{2} \\right)} + \\cos{\\left(\\theta_{1} \\right)} \\cos{\\left(\\theta_{2} \\right)} + 0.5 \\cos{\\left(\\theta_{1} \\right)} & \\left(- 1.1 \\sin{\\left(\\theta_{2} \\right)} \\sin{\\left(\\theta_{3} \\right)} + 1.1 \\cos{\\left(\\theta_{2} \\right)} \\cos{\\left(\\theta_{3} \\right)}\\right) \\sin{\\left(\\theta_{1} \\right)} + \\left(1.1 \\sin{\\left(\\theta_{2} \\right)} \\cos{\\left(\\theta_{3} \\right)} + 1.1 \\sin{\\left(\\theta_{3} \\right)} \\cos{\\left(\\theta_{2} \\right)}\\right) \\cos{\\left(\\theta_{1} \\right)} + \\sin{\\left(\\theta_{1} \\right)} \\cos{\\left(\\theta_{2} \\right)} + 0.5 \\sin{\\left(\\theta_{1} \\right)} + \\sin{\\left(\\theta_{2} \\right)} \\cos{\\left(\\theta_{1} \\right)} & 0\\end{matrix}\\right]$"
      ],
      "text/plain": [
       "Matrix([\n",
       "[            (-1.1*sin(\\theta_4)*sin(\\theta_5) + 1.1*cos(\\theta_4)*cos(\\theta_5))*cos(\\theta_1) - (1.1*sin(\\theta_4)*cos(\\theta_5) + 1.1*sin(\\theta_5)*cos(\\theta_4))*sin(\\theta_1) - 0.9*sin(\\theta_1)*sin(\\theta_4) + 0.9*cos(\\theta_1)*cos(\\theta_4),             (-1.1*sin(\\theta_4)*sin(\\theta_5) + 1.1*cos(\\theta_4)*cos(\\theta_5))*sin(\\theta_1) + (1.1*sin(\\theta_4)*cos(\\theta_5) + 1.1*sin(\\theta_5)*cos(\\theta_4))*cos(\\theta_1) + 0.9*sin(\\theta_1)*cos(\\theta_4) + 0.9*sin(\\theta_4)*cos(\\theta_1), 0],\n",
       "[                                                                                                                                                                                    -0.9*sin(\\theta_1)*sin(\\theta_4) + 0.9*cos(\\theta_1)*cos(\\theta_4),                                                                                                                                                                                      0.9*sin(\\theta_1)*cos(\\theta_4) + 0.9*sin(\\theta_4)*cos(\\theta_1), 0],\n",
       "[                                                                                                                                                                                                                                                     0,                                                                                                                                                                                                                                                      0, 0],\n",
       "[                                                                                                                                                                                                                                     0.5*cos(\\theta_1),                                                                                                                                                                                                                                      0.5*sin(\\theta_1), 0],\n",
       "[                                                                                                                                                                        -sin(\\theta_1)*sin(\\theta_2) + cos(\\theta_1)*cos(\\theta_2) + 0.5*cos(\\theta_1),                                                                                                                                                                          sin(\\theta_1)*cos(\\theta_2) + 0.5*sin(\\theta_1) + sin(\\theta_2)*cos(\\theta_1), 0],\n",
       "[(-1.1*sin(\\theta_2)*sin(\\theta_3) + 1.1*cos(\\theta_2)*cos(\\theta_3))*cos(\\theta_1) - (1.1*sin(\\theta_2)*cos(\\theta_3) + 1.1*sin(\\theta_3)*cos(\\theta_2))*sin(\\theta_1) - sin(\\theta_1)*sin(\\theta_2) + cos(\\theta_1)*cos(\\theta_2) + 0.5*cos(\\theta_1), (-1.1*sin(\\theta_2)*sin(\\theta_3) + 1.1*cos(\\theta_2)*cos(\\theta_3))*sin(\\theta_1) + (1.1*sin(\\theta_2)*cos(\\theta_3) + 1.1*sin(\\theta_3)*cos(\\theta_2))*cos(\\theta_1) + sin(\\theta_1)*cos(\\theta_2) + 0.5*sin(\\theta_1) + sin(\\theta_2)*cos(\\theta_1), 0]])"
      ]
     },
     "execution_count": 31,
     "metadata": {},
     "output_type": "execute_result"
    }
   ],
   "source": [
    "points_design = points.subs(design)\n",
    "points_design"
   ]
  },
  {
   "cell_type": "code",
   "execution_count": 32,
   "id": "74c6d7ac-36cd-4447-b4b3-63abea99d0a1",
   "metadata": {},
   "outputs": [
    {
     "data": {
      "image/png": "[encoded data removed]",
      "text/plain": [
       "<Figure size 640x480 with 1 Axes>"
      ]
     },
     "metadata": {},
     "output_type": "display_data"
    }
   ],
   "source": [
    "def plot_fourbar(state):\n",
    "    state_dict = dict(zip([q1,q2,q3,q4,q5],state))\n",
    "    points_state = points_design.subs(state_dict)\n",
    "    points_state = numpy.array(points_state,dtype= float)\n",
    "    plt.plot(points_state[:,0],points_state[:,1])\n",
    "    plt.axis('equal')\n",
    "plot_fourbar(ini)"
   ]
  },
  {
   "cell_type": "code",
   "execution_count": 33,
   "id": "b98f373e-ea8d-4230-b396-831ea568f2ef",
   "metadata": {},
   "outputs": [
    {
     "data": {
      "text/plain": [
       " message: Optimization terminated successfully.\n",
       " success: True\n",
       "  status: 0\n",
       "     fun: 5.135947794912955e-12\n",
       "       x: [-1.788e-13 -4.890e-01  2.640e+00  5.236e-01 -1.514e+00]\n",
       "     nit: 22\n",
       "   direc: [[ 1.000e+00  0.000e+00 ...  0.000e+00  0.000e+00]\n",
       "           [ 1.128e-09 -4.126e-01 ... -3.172e-02 -3.287e-01]\n",
       "           ...\n",
       "           [ 0.000e+00  0.000e+00 ...  1.000e+00  0.000e+00]\n",
       "           [ 4.238e-09  2.472e-02 ...  1.185e-02 -1.450e-02]]\n",
       "    nfev: 2512"
      ]
     },
     "execution_count": 33,
     "metadata": {},
     "output_type": "execute_result"
    }
   ],
   "source": [
    "result = so.minimize(objective_function,ini,method=\"powell\")\n",
    "result"
   ]
  },
  {
   "cell_type": "code",
   "execution_count": 34,
   "id": "0b3346bc-84a5-4dfa-be91-7bafd83006c3",
   "metadata": {},
   "outputs": [
    {
     "data": {
      "image/png": "[encoded data removed]",
      "text/plain": [
       "<Figure size 640x480 with 1 Axes>"
      ]
     },
     "metadata": {},
     "output_type": "display_data"
    }
   ],
   "source": [
    "plot_fourbar(result.x)"
   ]
  },
  {
   "cell_type": "code",
   "execution_count": 35,
   "id": "ab9f0c11-70d0-4a36-9471-8bb06d586dbd",
   "metadata": {},
   "outputs": [
    {
     "data": {
      "text/latex": [
       "$\\displaystyle \\left[\\begin{matrix}l_{1} \\cos{\\left(\\theta_{1} \\right)} + l_{2} \\cos{\\left(\\theta_{1} + \\theta_{2} \\right)} - l_{3} \\cos{\\left(\\theta_{1} + \\theta_{4} + \\theta_{5} \\right)} - l_{4} \\cos{\\left(\\theta_{1} + \\theta_{4} \\right)}\\\\l_{1} \\sin{\\left(\\theta_{1} \\right)} + l_{2} \\sin{\\left(\\theta_{1} + \\theta_{2} \\right)} - l_{3} \\sin{\\left(\\theta_{1} + \\theta_{4} + \\theta_{5} \\right)} - l_{4} \\sin{\\left(\\theta_{1} + \\theta_{4} \\right)}\\\\\\theta_{1}\\\\l_{3}^{2} \\left(\\cos{\\left(\\theta_{2} + \\theta_{3} - \\theta_{4} - \\theta_{5} \\right)} + 1\\right)\\end{matrix}\\right]$"
      ],
      "text/plain": [
       "Matrix([\n",
       "[l_1*cos(\\theta_1) + l_2*cos(\\theta_1 + \\theta_2) - l_3*cos(\\theta_1 + \\theta_4 + \\theta_5) - l_4*cos(\\theta_1 + \\theta_4)],\n",
       "[l_1*sin(\\theta_1) + l_2*sin(\\theta_1 + \\theta_2) - l_3*sin(\\theta_1 + \\theta_4 + \\theta_5) - l_4*sin(\\theta_1 + \\theta_4)],\n",
       "[                                                                                                                 \\theta_1],\n",
       "[                                                              l_3**2*(cos(\\theta_2 + \\theta_3 - \\theta_4 - \\theta_5) + 1)]])"
      ]
     },
     "execution_count": 35,
     "metadata": {},
     "output_type": "execute_result"
    }
   ],
   "source": [
    "zero = zero[:4,:]\n",
    "zero"
   ]
  },
  {
   "cell_type": "code",
   "execution_count": 36,
   "id": "1ae29fe3-448a-4fb8-a0ac-634cb133e9d1",
   "metadata": {},
   "outputs": [
    {
     "data": {
      "text/latex": [
       "$\\displaystyle \\left[\\begin{matrix}0.5 \\cos{\\left(\\theta_{1} \\right)} + \\cos{\\left(\\theta_{1} + \\theta_{2} \\right)} - 0.9 \\cos{\\left(\\theta_{1} + \\theta_{4} \\right)} - 1.1 \\cos{\\left(\\theta_{1} + \\theta_{4} + \\theta_{5} \\right)}\\\\0.5 \\sin{\\left(\\theta_{1} \\right)} + \\sin{\\left(\\theta_{1} + \\theta_{2} \\right)} - 0.9 \\sin{\\left(\\theta_{1} + \\theta_{4} \\right)} - 1.1 \\sin{\\left(\\theta_{1} + \\theta_{4} + \\theta_{5} \\right)}\\\\\\theta_{1}\\\\1.21 \\cos{\\left(\\theta_{2} + \\theta_{3} - \\theta_{4} - \\theta_{5} \\right)} + 1.21\\end{matrix}\\right]$"
      ],
      "text/plain": [
       "Matrix([\n",
       "[0.5*cos(\\theta_1) + cos(\\theta_1 + \\theta_2) - 0.9*cos(\\theta_1 + \\theta_4) - 1.1*cos(\\theta_1 + \\theta_4 + \\theta_5)],\n",
       "[0.5*sin(\\theta_1) + sin(\\theta_1 + \\theta_2) - 0.9*sin(\\theta_1 + \\theta_4) - 1.1*sin(\\theta_1 + \\theta_4 + \\theta_5)],\n",
       "[                                                                                                             \\theta_1],\n",
       "[                                                           1.21*cos(\\theta_2 + \\theta_3 - \\theta_4 - \\theta_5) + 1.21]])"
      ]
     },
     "execution_count": 36,
     "metadata": {},
     "output_type": "execute_result"
    }
   ],
   "source": [
    "independent = sympy.Matrix([q4])\n",
    "dependent = sympy.Matrix([q1,q2,q3,q5])\n",
    "zero_design = zero.subs(design)\n",
    "zero_design"
   ]
  },
  {
   "cell_type": "code",
   "execution_count": 37,
   "id": "c4c05da3-2ebd-4497-bae2-d9dd6ab54a5c",
   "metadata": {},
   "outputs": [],
   "source": [
    "A = zero_design.jacobian(independent)\n",
    "B = zero_design.jacobian(dependent)"
   ]
  },
  {
   "cell_type": "code",
   "execution_count": 38,
   "id": "a0645350-4102-4476-bddb-e5f799b514d6",
   "metadata": {},
   "outputs": [
    {
     "data": {
      "text/plain": [
       "{\\theta_1: np.float64(-1.7880964035328403e-13),\n",
       " \\theta_2: np.float64(-0.4890043362780645),\n",
       " \\theta_3: np.float64(2.640400501087823),\n",
       " \\theta_4: np.float64(0.5235987756028698),\n",
       " \\theta_5: np.float64(-1.5137952593685409)}"
      ]
     },
     "execution_count": 38,
     "metadata": {},
     "output_type": "execute_result"
    }
   ],
   "source": [
    "state_dict = dict(zip([q1,q2,q3,q4,q5],result.x))\n",
    "state_dict"
   ]
  },
  {
   "cell_type": "code",
   "execution_count": 39,
   "id": "e845fe9c-6ce7-475e-9dc8-71b52f0a92bd",
   "metadata": {},
   "outputs": [
    {
     "data": {
      "text/plain": [
       "array([[-4.69747148e-01],\n",
       "       [-1.38280101e+00],\n",
       "       [ 0.00000000e+00],\n",
       "       [ 6.06738009e-09]])"
      ]
     },
     "execution_count": 39,
     "metadata": {},
     "output_type": "execute_result"
    }
   ],
   "source": [
    "An = numpy.array(A.subs(state_dict),dtype=float)\n",
    "An"
   ]
  },
  {
   "cell_type": "code",
   "execution_count": 40,
   "id": "88947b09-b439-4631-bf03-d6d74360a314",
   "metadata": {},
   "outputs": [
    {
     "data": {
      "text/plain": [
       "(4, 4)"
      ]
     },
     "execution_count": 40,
     "metadata": {},
     "output_type": "execute_result"
    }
   ],
   "source": [
    "Bn = numpy.array(B.subs(state_dict),dtype=float)\n",
    "Bn.shape"
   ]
  },
  {
   "cell_type": "code",
   "execution_count": 41,
   "id": "ab163061-765b-42fd-907d-9c844e55c512",
   "metadata": {},
   "outputs": [
    {
     "data": {
      "text/plain": [
       "array([[ 0.        ],\n",
       "       [ 1.87011814],\n",
       "       [-0.42571827],\n",
       "       [ 0.44439987]])"
      ]
     },
     "execution_count": 41,
     "metadata": {},
     "output_type": "execute_result"
    }
   ],
   "source": [
    "Cn = -numpy.linalg.inv(Bn)@An\n",
    "Cn"
   ]
  },
  {
   "cell_type": "code",
   "execution_count": 42,
   "id": "25a4a32b-c210-41df-adf1-3c9945ce3ad5",
   "metadata": {},
   "outputs": [
    {
     "data": {
      "text/latex": [
       "$\\displaystyle \\left[\\begin{matrix}0.5 l_{3} \\cos{\\left(\\theta_{1} + \\theta_{4} + \\theta_{5} \\right)} + 1.0 l_{4} \\cos{\\left(\\theta_{1} + \\theta_{4} \\right)}\\\\0.5 l_{3} \\sin{\\left(\\theta_{1} + \\theta_{4} + \\theta_{5} \\right)} + 1.0 l_{4} \\sin{\\left(\\theta_{1} + \\theta_{4} \\right)}\\\\0\\end{matrix}\\right]$"
      ],
      "text/plain": [
       "Matrix([\n",
       "[0.5*l_3*cos(\\theta_1 + \\theta_4 + \\theta_5) + 1.0*l_4*cos(\\theta_1 + \\theta_4)],\n",
       "[0.5*l_3*sin(\\theta_1 + \\theta_4 + \\theta_5) + 1.0*l_4*sin(\\theta_1 + \\theta_4)],\n",
       "[                                                                             0]])"
      ]
     },
     "execution_count": 42,
     "metadata": {},
     "output_type": "execute_result"
    }
   ],
   "source": [
    "p_out = p4+.5*v5_in_n\n",
    "p_out.simplify()\n",
    "p_out"
   ]
  },
  {
   "cell_type": "code",
   "execution_count": 43,
   "id": "2cba4623-ecb1-4340-9d20-100014138f4d",
   "metadata": {},
   "outputs": [
    {
     "data": {
      "text/latex": [
       "$\\displaystyle \\left[\\begin{matrix}1.0811119348563\\\\-0.00987357410826606\\\\0\\end{matrix}\\right]$"
      ],
      "text/plain": [
       "Matrix([\n",
       "[     1.0811119348563],\n",
       "[-0.00987357410826606],\n",
       "[                   0]])"
      ]
     },
     "execution_count": 43,
     "metadata": {},
     "output_type": "execute_result"
    }
   ],
   "source": [
    "p_out_n = p_out.subs(design).subs(state_dict)\n",
    "p_out_n"
   ]
  },
  {
   "cell_type": "code",
   "execution_count": 44,
   "id": "3aa39076-777c-4871-8a08-0b8b7a967ee6",
   "metadata": {},
   "outputs": [
    {
     "data": {
      "text/latex": [
       "$\\displaystyle \\left[\\begin{matrix}- 0.5 l_{3} \\sin{\\left(\\theta_{1} + \\theta_{4} + \\theta_{5} \\right)} - 1.0 l_{4} \\sin{\\left(\\theta_{1} + \\theta_{4} \\right)}\\\\0.5 l_{3} \\cos{\\left(\\theta_{1} + \\theta_{4} + \\theta_{5} \\right)} + 1.0 l_{4} \\cos{\\left(\\theta_{1} + \\theta_{4} \\right)}\\\\0\\end{matrix}\\right]$"
      ],
      "text/plain": [
       "Matrix([\n",
       "[-0.5*l_3*sin(\\theta_1 + \\theta_4 + \\theta_5) - 1.0*l_4*sin(\\theta_1 + \\theta_4)],\n",
       "[ 0.5*l_3*cos(\\theta_1 + \\theta_4 + \\theta_5) + 1.0*l_4*cos(\\theta_1 + \\theta_4)],\n",
       "[                                                                              0]])"
      ]
     },
     "execution_count": 44,
     "metadata": {},
     "output_type": "execute_result"
    }
   ],
   "source": [
    "D = p_out.jacobian(independent)\n",
    "D"
   ]
  },
  {
   "cell_type": "code",
   "execution_count": 45,
   "id": "3b8fd168-3c59-4e8d-a178-8df6e6d75721",
   "metadata": {},
   "outputs": [
    {
     "data": {
      "text/plain": [
       "array([[0.21424133],\n",
       "       [1.21518252],\n",
       "       [0.        ]])"
      ]
     },
     "execution_count": 45,
     "metadata": {},
     "output_type": "execute_result"
    }
   ],
   "source": [
    "E = p_out.jacobian(dependent)\n",
    "\n",
    "Dn = numpy.array(D.subs(design).subs(state_dict),dtype=float)\n",
    "En = numpy.array(E.subs(design).subs(state_dict),dtype=float)\n",
    "Jo = (Dn+En@Cn)\n",
    "Jo"
   ]
  },
  {
   "cell_type": "code",
   "execution_count": 46,
   "id": "980c099b-e739-45e7-b2e1-0e43bcd63e23",
   "metadata": {},
   "outputs": [
    {
     "data": {
      "text/plain": [
       "array([[0.21424133],\n",
       "       [1.21518252],\n",
       "       [0.        ]])"
      ]
     },
     "execution_count": 46,
     "metadata": {},
     "output_type": "execute_result"
    }
   ],
   "source": [
    "dy = Jo@numpy.array([[1]])\n",
    "dy"
   ]
  },
  {
   "cell_type": "code",
   "execution_count": 47,
   "id": "d3424ef3-773a-499f-ab9f-8884e3c8d59f",
   "metadata": {},
   "outputs": [
    {
     "data": {
      "text/plain": [
       "<matplotlib.patches.FancyArrow at 0x7f60b7546fc0>"
      ]
     },
     "execution_count": 47,
     "metadata": {},
     "output_type": "execute_result"
    },
    {
     "data": {
      "image/png": "[encoded data removed]",
      "text/plain": [
       "<Figure size 640x480 with 1 Axes>"
      ]
     },
     "metadata": {},
     "output_type": "display_data"
    }
   ],
   "source": [
    "plot_fourbar(result.x)\n",
    "plt.arrow(p_out_n[0,0],p_out_n[1,0],dy[0,0],dy[1,0],shape='full',head_width=.1,head_length=.1)"
   ]
  },
  {
   "cell_type": "code",
   "execution_count": null,
   "id": "d9fcc335-f356-45c9-9e5c-f3db6a438ef3",
   "metadata": {},
   "outputs": [],
   "source": []
  }
 ],
 "metadata": {
  "kernelspec": {
   "display_name": "Python 3 (ipykernel)",
   "language": "python",
   "name": "python3"
  },
  "language_info": {
   "codemirror_mode": {
    "name": "ipython",
    "version": 3
   },
   "file_extension": ".py",
   "mimetype": "text/x-python",
   "name": "python",
   "nbconvert_exporter": "python",
   "pygments_lexer": "ipython3",
   "version": "3.12.3"
  }
 },
 "nbformat": 4,
 "nbformat_minor": 5
}
